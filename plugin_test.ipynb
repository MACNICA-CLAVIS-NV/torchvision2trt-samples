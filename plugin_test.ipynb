{
 "cells": [
  {
   "cell_type": "code",
   "execution_count": 1,
   "metadata": {},
   "outputs": [],
   "source": [
    "input_size = 225\n",
    "win_size = 3\n",
    "stride = 2\n",
    "output_size = input_size // stride"
   ]
  },
  {
   "cell_type": "code",
   "execution_count": 2,
   "metadata": {},
   "outputs": [],
   "source": [
    "import numpy as np\n",
    "import torch\n",
    "\n",
    "x = np.random.randn(3, input_size, input_size)\n",
    "x = np.float32(x)\n",
    "input_tensor = torch.tensor(x)\n",
    "input_batch = input_tensor.unsqueeze(0)"
   ]
  },
  {
   "cell_type": "code",
   "execution_count": 3,
   "metadata": {},
   "outputs": [
    {
     "data": {
      "text/plain": [
       "torch.Size([1, 3, 225, 225])"
      ]
     },
     "execution_count": 3,
     "metadata": {},
     "output_type": "execute_result"
    }
   ],
   "source": [
    "input_batch.shape"
   ]
  },
  {
   "cell_type": "code",
   "execution_count": 4,
   "metadata": {},
   "outputs": [
    {
     "data": {
      "text/plain": [
       "tensor([[[[ 3.5725e-01, -1.6917e+00,  5.2136e-01,  ..., -6.0795e-01,\n",
       "            1.5753e+00, -3.8070e-01],\n",
       "          [-5.2666e-01, -5.3604e-01,  2.8471e-01,  ..., -4.2220e-01,\n",
       "            3.7675e-02, -2.1327e-01],\n",
       "          [ 5.2262e-01, -9.2496e-01,  1.1425e+00,  ..., -8.2697e-01,\n",
       "           -1.4993e+00,  1.0177e+00],\n",
       "          ...,\n",
       "          [-2.4542e-01,  7.2722e-01, -1.2134e+00,  ...,  1.0461e+00,\n",
       "           -1.0332e+00,  1.1853e-02],\n",
       "          [ 1.5355e+00,  9.1631e-01,  2.9137e-01,  ..., -2.2114e+00,\n",
       "            6.3102e-01,  1.4526e-01],\n",
       "          [-5.4330e-01,  1.4354e-02,  1.7691e+00,  ...,  1.3342e+00,\n",
       "           -2.0007e-01, -1.3380e+00]],\n",
       "\n",
       "         [[ 6.8778e-01,  3.5977e-01,  1.2019e+00,  ...,  1.1744e+00,\n",
       "           -1.0098e-01, -1.7514e+00],\n",
       "          [ 1.2804e+00, -8.9257e-02,  1.8362e+00,  ...,  1.4048e+00,\n",
       "            2.4415e-01,  9.5697e-01],\n",
       "          [ 9.1319e-01, -8.5339e-01, -6.3060e-01,  ...,  9.9020e-01,\n",
       "           -5.5876e-01, -5.3186e-01],\n",
       "          ...,\n",
       "          [-9.1589e-01,  4.9881e-01,  1.6343e+00,  ..., -4.9331e-01,\n",
       "            1.8136e+00, -4.4378e-02],\n",
       "          [-6.2744e-01,  8.2460e-01, -1.2895e+00,  ..., -1.2491e+00,\n",
       "            1.1212e+00, -6.2115e-01],\n",
       "          [-6.3162e-01, -1.3016e+00,  3.5285e-01,  ...,  7.5364e-01,\n",
       "           -9.0111e-01,  1.2723e+00]],\n",
       "\n",
       "         [[-2.5043e-01,  1.7272e+00,  5.1067e-02,  ...,  4.1763e-01,\n",
       "            1.1088e+00, -1.2845e+00],\n",
       "          [-8.3020e-02, -6.9863e-01, -3.7212e-01,  ..., -1.3319e+00,\n",
       "           -1.5209e-01,  2.7543e-01],\n",
       "          [-9.9215e-01,  3.2481e-01, -1.0543e+00,  ..., -2.5035e+00,\n",
       "           -1.1017e-01, -4.7278e-02],\n",
       "          ...,\n",
       "          [ 5.2864e-01,  4.6088e-01, -4.0802e-01,  ...,  1.0195e+00,\n",
       "            2.1177e-01,  1.0143e-01],\n",
       "          [-1.9684e-01, -1.2239e+00,  3.3724e-01,  ..., -1.9808e+00,\n",
       "            3.0962e-01, -2.5404e-03],\n",
       "          [-1.7198e+00,  2.8667e+00, -1.2035e+00,  ...,  7.4310e-01,\n",
       "            1.5031e+00, -2.0514e+00]]]])"
      ]
     },
     "execution_count": 4,
     "metadata": {},
     "output_type": "execute_result"
    }
   ],
   "source": [
    "input_batch"
   ]
  },
  {
   "cell_type": "code",
   "execution_count": 5,
   "metadata": {},
   "outputs": [],
   "source": [
    "def define_trt_network(network):\n",
    "    # Input\n",
    "    input_tensor = network.add_input(name='input', dtype=trt.float32, shape=(1, 3, input_size, input_size))\n",
    "\n",
    "    # MaxPool2d\n",
    "    layer = network.add_pooling( \\\n",
    "        input=input_tensor, type=trt.PoolingType.MAX, window_size=(win_size, win_size))\n",
    "    layer.stride = (stride, stride)\n",
    "\n",
    "    # Output\n",
    "    layer.get_output(0).name = 'output'\n",
    "    network.mark_output(tensor=layer.get_output(0))"
   ]
  },
  {
   "cell_type": "code",
   "execution_count": 6,
   "metadata": {},
   "outputs": [],
   "source": [
    "import trt_analyzer\n",
    "import tensorrt as trt\n",
    "\n",
    "EXPLICIT_BATCH = 1 << (int)(trt.NetworkDefinitionCreationFlag.EXPLICIT_BATCH)\n",
    "\n",
    "def build_engine(logger):\n",
    "    with trt.Builder(logger) as builder, builder.create_network(EXPLICIT_BATCH) as network:\n",
    "        builder.max_workspace_size = 1 << 30\n",
    "        # Define the TRT network using weights from the PyTorch model.\n",
    "        #define_trt_plugin_network(network)\n",
    "        define_trt_network(network)\n",
    "        # Get network info\n",
    "        global net_dict\n",
    "        net_dict = trt_analyzer.network_dict(network)\n",
    "        # Build and return an engine.\n",
    "        return builder.build_cuda_engine(network)"
   ]
  },
  {
   "cell_type": "code",
   "execution_count": 7,
   "metadata": {},
   "outputs": [],
   "source": [
    "import tensorrt as trt\n",
    "import common\n",
    "\n",
    "TRT_LOGGER = trt.Logger(trt.Logger.VERBOSE)\n",
    "net_dict = None\n",
    "with build_engine(TRT_LOGGER) as engine:\n",
    "    inputs, outputs, bindings, stream = common.allocate_buffers(engine)\n",
    "    with engine.create_execution_context() as context:\n",
    "        inputs[0].host = input_batch.numpy()\n",
    "        trt_outputs = common.do_inference_v2( \\\n",
    "            context, bindings=bindings, inputs=inputs, outputs=outputs, stream=stream)"
   ]
  },
  {
   "cell_type": "code",
   "execution_count": 8,
   "metadata": {},
   "outputs": [
    {
     "data": {
      "text/html": [
       "<div>\n",
       "<style scoped>\n",
       "    .dataframe tbody tr th:only-of-type {\n",
       "        vertical-align: middle;\n",
       "    }\n",
       "\n",
       "    .dataframe tbody tr th {\n",
       "        vertical-align: top;\n",
       "    }\n",
       "\n",
       "    .dataframe thead th {\n",
       "        text-align: right;\n",
       "    }\n",
       "</style>\n",
       "<table border=\"1\" class=\"dataframe\">\n",
       "  <thead>\n",
       "    <tr style=\"text-align: right;\">\n",
       "      <th></th>\n",
       "      <th>Name</th>\n",
       "      <th>Type</th>\n",
       "      <th>Inputs</th>\n",
       "      <th>Outputs</th>\n",
       "      <th>Type Specific Params</th>\n",
       "    </tr>\n",
       "  </thead>\n",
       "  <tbody>\n",
       "    <tr>\n",
       "      <th>0</th>\n",
       "      <td>(Unnamed Layer* 0) [Pooling]</td>\n",
       "      <td>LayerType.POOLING</td>\n",
       "      <td>(1, 3, 225, 225)</td>\n",
       "      <td>(1, 3, 112, 112)</td>\n",
       "      <td>type=PoolingType.MAX wsize=(3, 3) stride=(2, 2...</td>\n",
       "    </tr>\n",
       "  </tbody>\n",
       "</table>\n",
       "</div>"
      ],
      "text/plain": [
       "                           Name               Type             Inputs  \\\n",
       "0  (Unnamed Layer* 0) [Pooling]  LayerType.POOLING   (1, 3, 225, 225)   \n",
       "\n",
       "             Outputs                               Type Specific Params  \n",
       "0   (1, 3, 112, 112)  type=PoolingType.MAX wsize=(3, 3) stride=(2, 2...  "
      ]
     },
     "execution_count": 8,
     "metadata": {},
     "output_type": "execute_result"
    }
   ],
   "source": [
    "import pandas as pd\n",
    "\n",
    "pd.DataFrame(net_dict)"
   ]
  },
  {
   "cell_type": "code",
   "execution_count": 9,
   "metadata": {},
   "outputs": [
    {
     "name": "stdout",
     "output_type": "stream",
     "text": [
      "[[[1.1424867  1.1424867  1.7960731  ... 0.26349372 0.43127626 1.5752807 ]\n",
      "  [1.7005147  1.5448505  2.220654   ... 1.9787482  1.4446608  1.0176722 ]\n",
      "  [1.7005147  2.7461123  2.7461123  ... 1.4446608  1.4446608  0.29846618]\n",
      "  ...\n",
      "  [1.9945829  1.9945829  1.1967089  ... 1.8578961  1.3442125  1.3442125 ]\n",
      "  [2.419224   3.2397647  0.38520214 ... 1.8578961  1.5268359  1.0461092 ]\n",
      "  [1.7690994  3.2397647  0.6958099  ... 1.6682177  1.6682177  1.3341585 ]]\n",
      "\n",
      " [[1.8362406  1.8362406  1.9174484  ... 0.725377   1.4048389  1.4048389 ]\n",
      "  [0.9131926  0.2932047  1.9174484  ... 1.2848766  1.5044066  1.6129793 ]\n",
      "  [1.5864489  0.7369177  0.32757738 ... 1.3945507  1.5044066  1.5044066 ]\n",
      "  ...\n",
      "  [1.4659975  1.0164951  2.1848512  ... 0.12717292 1.4331068  1.4331068 ]\n",
      "  [1.6343282  1.6343282  1.1453598  ... 0.88451827 0.88451827 1.8136477 ]\n",
      "  [1.6343282  1.6343282  1.1453598  ... 0.88451827 1.420002   1.8136477 ]]\n",
      "\n",
      " [[1.7271981  3.2363951  3.2363951  ... 2.112953   2.0569186  1.1088425 ]\n",
      "  [2.5487862  1.7490253  1.7490253  ... 2.7372844  1.5666889  1.1804582 ]\n",
      "  [2.5487862  0.40096137 1.8004454  ... 2.7372844  2.1175063  2.1175063 ]\n",
      "  ...\n",
      "  [0.79482234 0.79214746 1.1492889  ... 1.0134658  1.5217313  2.2645967 ]\n",
      "  [2.2799897  1.2422278  1.1492889  ... 0.8441791  1.8774614  2.2645967 ]\n",
      "  [2.8666906  1.0929629  1.8647182  ... 1.0994011  1.019507   1.5031161 ]]]\n"
     ]
    }
   ],
   "source": [
    "reference = trt_outputs[0].reshape((3, input_size // 2, input_size // 2))\n",
    "print(reference)"
   ]
  },
  {
   "cell_type": "code",
   "execution_count": 10,
   "metadata": {},
   "outputs": [],
   "source": [
    "import sys\n",
    "import os\n",
    "\n",
    "cur_path = %pwd\n",
    "plugin_path = os.path.join(cur_path, 'plugin')\n",
    "sys.path.append(plugin_path)\n",
    "from trt_plugin_pb2 import copy_Message\n",
    "from trt_plugin_pb2 import pooling_Message\n",
    "import trt_plugin_pb2"
   ]
  },
  {
   "cell_type": "code",
   "execution_count": 11,
   "metadata": {},
   "outputs": [],
   "source": [
    "import ctypes\n",
    "\n",
    "lib_file = os.path.join(plugin_path, 'build', 'libPoolingPlugin.so')\n",
    "lib = ctypes.CDLL(lib_file)"
   ]
  },
  {
   "cell_type": "code",
   "execution_count": 12,
   "metadata": {},
   "outputs": [
    {
     "name": "stdout",
     "output_type": "stream",
     "text": [
      "['RnRes2Br2bBr2c_TRT', 'RnRes2Br2bBr2c_TRT', 'RnRes2Br1Br2c_TRT', 'RnRes2Br1Br2c_TRT', 'CustomSkipLayerNormPluginDynamic', 'CustomEmbLayerNormPluginDynamic', 'CustomGeluPluginDynamic', 'CustomQKVToContextPluginDynamic', 'CustomFCPluginDynamic', 'SingleStepLSTMPlugin', 'pooling', 'copy']\n",
      "['', '', '', '', '', '', '', '', '', '', 'macnica_trt_plugins', 'macnica_trt_plugins']\n"
     ]
    }
   ],
   "source": [
    "import tensorrt as trt\n",
    "\n",
    "registry = trt.get_plugin_registry()\n",
    "print([c.name for c in registry.plugin_creator_list])\n",
    "print([c.plugin_namespace for c in registry.plugin_creator_list])"
   ]
  },
  {
   "cell_type": "code",
   "execution_count": 13,
   "metadata": {},
   "outputs": [],
   "source": [
    "namespace = 'macnica_trt_plugins'\n",
    "macnica_creators = [c for c in registry.plugin_creator_list if c.plugin_namespace == namespace]\n",
    "for c in macnica_creators:\n",
    "    registry.register_creator(c, namespace)"
   ]
  },
  {
   "cell_type": "code",
   "execution_count": 14,
   "metadata": {},
   "outputs": [],
   "source": [
    "def define_trt_plugin_network(network):\n",
    "    # Input\n",
    "    input_tensor = network.add_input(name='input', dtype=trt.float32, shape=(1, 3, input_size, input_size))\n",
    "    \n",
    "    ### Custom Pooling Layer with CUDA or cuDNN ###\n",
    "    creator = registry.get_plugin_creator( \\\n",
    "        type='pooling', version='1', plugin_namespace='macnica_trt_plugins')\n",
    "    sz = input_tensor.shape\n",
    "    message = pooling_Message( \\\n",
    "        dims=sz, mode=trt_plugin_pb2.Maximum, window=[win_size, win_size], \\\n",
    "        stride=[stride, stride], impl=trt_plugin_pb2.CUDA)\n",
    "    plg = creator.deserialize_plugin('pooling', message.SerializeToString())\n",
    "    layer = network.add_plugin_v2(inputs=[input_tensor], plugin=plg)\n",
    "\n",
    "    # Output\n",
    "    layer.get_output(0).name = 'output'\n",
    "    network.mark_output(tensor=layer.get_output(0))"
   ]
  },
  {
   "cell_type": "code",
   "execution_count": 15,
   "metadata": {},
   "outputs": [],
   "source": [
    "import trt_analyzer\n",
    "import tensorrt as trt\n",
    "\n",
    "EXPLICIT_BATCH = 1 << (int)(trt.NetworkDefinitionCreationFlag.EXPLICIT_BATCH)\n",
    "\n",
    "def build_engine2(logger):\n",
    "    with trt.Builder(logger) as builder, builder.create_network(EXPLICIT_BATCH) as network:\n",
    "        builder.max_workspace_size = 1 << 30\n",
    "        # Define the TRT network using weights from the PyTorch model.\n",
    "        define_trt_plugin_network(network)\n",
    "        #define_trt_network(network)\n",
    "        # Get network info\n",
    "        global net_dict\n",
    "        net_dict = trt_analyzer.network_dict(network)\n",
    "        # Build and return an engine.\n",
    "        return builder.build_cuda_engine(network)"
   ]
  },
  {
   "cell_type": "code",
   "execution_count": 16,
   "metadata": {},
   "outputs": [],
   "source": [
    "net_dict = None\n",
    "with build_engine2(TRT_LOGGER) as engine:\n",
    "    inputs, outputs, bindings, stream = common.allocate_buffers(engine)\n",
    "    with engine.create_execution_context() as context:\n",
    "        inputs[0].host = input_batch.numpy()\n",
    "        trt_outputs = common.do_inference_v2( \\\n",
    "            context, bindings=bindings, inputs=inputs, outputs=outputs, stream=stream)"
   ]
  },
  {
   "cell_type": "code",
   "execution_count": 17,
   "metadata": {},
   "outputs": [
    {
     "data": {
      "text/html": [
       "<div>\n",
       "<style scoped>\n",
       "    .dataframe tbody tr th:only-of-type {\n",
       "        vertical-align: middle;\n",
       "    }\n",
       "\n",
       "    .dataframe tbody tr th {\n",
       "        vertical-align: top;\n",
       "    }\n",
       "\n",
       "    .dataframe thead th {\n",
       "        text-align: right;\n",
       "    }\n",
       "</style>\n",
       "<table border=\"1\" class=\"dataframe\">\n",
       "  <thead>\n",
       "    <tr style=\"text-align: right;\">\n",
       "      <th></th>\n",
       "      <th>Name</th>\n",
       "      <th>Type</th>\n",
       "      <th>Inputs</th>\n",
       "      <th>Outputs</th>\n",
       "      <th>Type Specific Params</th>\n",
       "    </tr>\n",
       "  </thead>\n",
       "  <tbody>\n",
       "    <tr>\n",
       "      <th>0</th>\n",
       "      <td>(Unnamed Layer* 0) [PluginV2Ext]</td>\n",
       "      <td>LayerType.PLUGIN_V2</td>\n",
       "      <td>(1, 3, 225, 225)</td>\n",
       "      <td>(1, 3, 112, 112)</td>\n",
       "      <td></td>\n",
       "    </tr>\n",
       "  </tbody>\n",
       "</table>\n",
       "</div>"
      ],
      "text/plain": [
       "                               Name                 Type             Inputs  \\\n",
       "0  (Unnamed Layer* 0) [PluginV2Ext]  LayerType.PLUGIN_V2   (1, 3, 225, 225)   \n",
       "\n",
       "             Outputs Type Specific Params  \n",
       "0   (1, 3, 112, 112)                       "
      ]
     },
     "execution_count": 17,
     "metadata": {},
     "output_type": "execute_result"
    }
   ],
   "source": [
    "pd.DataFrame(net_dict)"
   ]
  },
  {
   "cell_type": "code",
   "execution_count": 18,
   "metadata": {},
   "outputs": [
    {
     "name": "stdout",
     "output_type": "stream",
     "text": [
      "[[[1.1424867  1.1424867  1.7960731  ... 0.26349372 0.43127626 1.5752807 ]\n",
      "  [1.7005147  1.5448505  2.220654   ... 1.9787482  1.4446608  1.0176722 ]\n",
      "  [1.7005147  2.7461123  2.7461123  ... 1.4446608  1.4446608  0.29846618]\n",
      "  ...\n",
      "  [1.9945829  1.9945829  1.1967089  ... 1.8578961  1.3442125  1.3442125 ]\n",
      "  [2.419224   3.2397647  0.38520214 ... 1.8578961  1.5268359  1.0461092 ]\n",
      "  [1.7690994  3.2397647  0.6958099  ... 1.6682177  1.6682177  1.3341585 ]]\n",
      "\n",
      " [[1.8362406  1.8362406  1.9174484  ... 0.725377   1.4048389  1.4048389 ]\n",
      "  [0.9131926  0.2932047  1.9174484  ... 1.2848766  1.5044066  1.6129793 ]\n",
      "  [1.5864489  0.7369177  0.32757738 ... 1.3945507  1.5044066  1.5044066 ]\n",
      "  ...\n",
      "  [1.4659975  1.0164951  2.1848512  ... 0.12717292 1.4331068  1.4331068 ]\n",
      "  [1.6343282  1.6343282  1.1453598  ... 0.88451827 0.88451827 1.8136477 ]\n",
      "  [1.6343282  1.6343282  1.1453598  ... 0.88451827 1.420002   1.8136477 ]]\n",
      "\n",
      " [[1.7271981  3.2363951  3.2363951  ... 2.112953   2.0569186  1.1088425 ]\n",
      "  [2.5487862  1.7490253  1.7490253  ... 2.7372844  1.5666889  1.1804582 ]\n",
      "  [2.5487862  0.40096137 1.8004454  ... 2.7372844  2.1175063  2.1175063 ]\n",
      "  ...\n",
      "  [0.79482234 0.79214746 1.1492889  ... 1.0134658  1.5217313  2.2645967 ]\n",
      "  [2.2799897  1.2422278  1.1492889  ... 0.8441791  1.8774614  2.2645967 ]\n",
      "  [2.8666906  1.0929629  1.8647182  ... 1.0994011  1.019507   1.5031161 ]]]\n"
     ]
    }
   ],
   "source": [
    "result = trt_outputs[0].reshape((3, output_size, output_size))\n",
    "print(result)"
   ]
  },
  {
   "cell_type": "code",
   "execution_count": 19,
   "metadata": {},
   "outputs": [
    {
     "name": "stdout",
     "output_type": "stream",
     "text": [
      "0.0\n"
     ]
    }
   ],
   "source": [
    "print(sum(abs(result.flatten() - reference.flatten())) / len(result.flatten()))"
   ]
  },
  {
   "cell_type": "code",
   "execution_count": null,
   "metadata": {},
   "outputs": [],
   "source": []
  }
 ],
 "metadata": {
  "kernelspec": {
   "display_name": "Python 3",
   "language": "python",
   "name": "python3"
  },
  "language_info": {
   "codemirror_mode": {
    "name": "ipython",
    "version": 3
   },
   "file_extension": ".py",
   "mimetype": "text/x-python",
   "name": "python",
   "nbconvert_exporter": "python",
   "pygments_lexer": "ipython3",
   "version": "3.6.9"
  }
 },
 "nbformat": 4,
 "nbformat_minor": 4
}
