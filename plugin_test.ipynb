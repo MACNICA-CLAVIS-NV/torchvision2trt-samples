{
 "cells": [
  {
   "cell_type": "markdown",
   "metadata": {},
   "source": [
    "# A Programm to Test The Pooling Custom Layer TensorRT Plugin"
   ]
  },
  {
   "cell_type": "code",
   "execution_count": 1,
   "metadata": {},
   "outputs": [],
   "source": [
    "input_size = 225\n",
    "win_size = 3\n",
    "stride = 2\n",
    "output_size = input_size // stride"
   ]
  },
  {
   "cell_type": "code",
   "execution_count": 2,
   "metadata": {},
   "outputs": [],
   "source": [
    "import numpy as np\n",
    "import torch\n",
    "\n",
    "x = np.random.randn(3, input_size, input_size)\n",
    "x = np.float32(x)\n",
    "input_tensor = torch.tensor(x)\n",
    "input_batch = input_tensor.unsqueeze(0)"
   ]
  },
  {
   "cell_type": "code",
   "execution_count": 3,
   "metadata": {},
   "outputs": [
    {
     "data": {
      "text/plain": [
       "torch.Size([1, 3, 225, 225])"
      ]
     },
     "execution_count": 3,
     "metadata": {},
     "output_type": "execute_result"
    }
   ],
   "source": [
    "input_batch.shape"
   ]
  },
  {
   "cell_type": "code",
   "execution_count": 4,
   "metadata": {},
   "outputs": [
    {
     "data": {
      "text/plain": [
       "tensor([[[[ 1.9086,  0.6233,  0.4397,  ..., -0.9460,  1.3901, -0.9907],\n",
       "          [-0.8772, -0.7359, -0.9987,  ..., -0.9756,  2.2991, -0.1512],\n",
       "          [ 0.6496,  0.1291, -0.2755,  ...,  1.3561, -0.4766,  0.5580],\n",
       "          ...,\n",
       "          [ 0.0264, -1.9654,  0.6396,  ...,  1.8939, -1.3221,  0.4334],\n",
       "          [ 1.1496,  0.0731, -1.7232,  ..., -0.4995,  0.8761, -0.4739],\n",
       "          [ 1.0310, -0.5421, -1.3319,  ..., -1.3780, -1.7239, -0.2046]],\n",
       "\n",
       "         [[ 0.9479, -0.6372,  1.2032,  ..., -1.0781,  0.6603,  0.6303],\n",
       "          [-0.2466, -0.3848,  0.1896,  ..., -0.6849, -0.1012,  0.4828],\n",
       "          [-0.0541, -0.6104,  2.1602,  ..., -0.1407,  1.9809, -0.0902],\n",
       "          ...,\n",
       "          [-0.3290,  0.0813, -1.3113,  ..., -1.2205, -1.7088, -1.1775],\n",
       "          [-0.8990,  1.8290, -0.8415,  ...,  0.4334, -0.3941,  1.8447],\n",
       "          [-0.4006, -0.1474, -0.0248,  ...,  1.1039,  0.7396,  1.1029]],\n",
       "\n",
       "         [[ 0.3785,  0.2741,  0.6076,  ..., -1.3106, -0.2222,  0.2296],\n",
       "          [-1.2488,  3.1606, -1.0643,  ..., -0.8847,  1.2901, -1.0127],\n",
       "          [-0.9552,  2.0867,  0.1603,  ..., -0.4747,  0.9348, -0.3360],\n",
       "          ...,\n",
       "          [-0.1071, -0.3413, -0.9300,  ..., -0.7949,  0.0622, -0.0703],\n",
       "          [ 0.7459, -0.3697, -0.2864,  ...,  0.6108, -0.2158,  1.3125],\n",
       "          [-1.3415,  1.1923, -0.4708,  ..., -0.3538,  1.2727, -0.6435]]]])"
      ]
     },
     "execution_count": 4,
     "metadata": {},
     "output_type": "execute_result"
    }
   ],
   "source": [
    "input_batch"
   ]
  },
  {
   "cell_type": "code",
   "execution_count": 5,
   "metadata": {},
   "outputs": [],
   "source": [
    "def define_trt_network(network):\n",
    "    # Input\n",
    "    input_tensor = network.add_input(name='input', dtype=trt.float32, shape=(1, 3, input_size, input_size))\n",
    "\n",
    "    # MaxPool2d\n",
    "    layer = network.add_pooling_nd( \\\n",
    "        input=input_tensor, type=trt.PoolingType.MAX, window_size=(win_size, win_size))\n",
    "    layer.stride_nd = (stride, stride)\n",
    "\n",
    "    # Output\n",
    "    layer.get_output(0).name = 'output'\n",
    "    network.mark_output(tensor=layer.get_output(0))"
   ]
  },
  {
   "cell_type": "code",
   "execution_count": 6,
   "metadata": {},
   "outputs": [],
   "source": [
    "import trt_analyzer\n",
    "import tensorrt as trt\n",
    "\n",
    "EXPLICIT_BATCH = 1 << (int)(trt.NetworkDefinitionCreationFlag.EXPLICIT_BATCH)\n",
    "\n",
    "def build_engine(logger):\n",
    "    with trt.Builder(logger) as builder, builder.create_network(EXPLICIT_BATCH) as network, builder.create_builder_config() as config, trt.Runtime(TRT_LOGGER) as runtime:\n",
    "        config.set_memory_pool_limit(trt.MemoryPoolType.WORKSPACE, 1 << 30)\n",
    "        # Define the TRT network using weights from the PyTorch model.\n",
    "        #define_trt_plugin_network(network)\n",
    "        define_trt_network(network)\n",
    "        # Get network info\n",
    "        global net_dict\n",
    "        net_dict = trt_analyzer.network_dict(network)\n",
    "        # Build and return an engine.\n",
    "        plan = builder.build_serialized_network(network, config)\n",
    "        engine = runtime.deserialize_cuda_engine(plan)\n",
    "        return engine"
   ]
  },
  {
   "cell_type": "code",
   "execution_count": 7,
   "metadata": {},
   "outputs": [
    {
     "name": "stdout",
     "output_type": "stream",
     "text": [
      "[06/22/2022-05:30:07] [TRT] [I] [MemUsageChange] Init CUDA: CPU +202, GPU +0, now: CPU 284, GPU 3239 (MiB)\n",
      "[06/22/2022-05:30:11] [TRT] [I] [MemUsageChange] Init builder kernel library: CPU +141, GPU +131, now: CPU 444, GPU 3385 (MiB)\n",
      "[06/22/2022-05:30:11] [TRT] [I] [MemUsageChange] Init CUDA: CPU +0, GPU +0, now: CPU 444, GPU 3385 (MiB)\n",
      "[06/22/2022-05:30:11] [TRT] [V] Applying generic optimizations to the graph for inference.\n",
      "[06/22/2022-05:30:11] [TRT] [V] Original: 1 layers\n",
      "[06/22/2022-05:30:11] [TRT] [V] After dead-layer removal: 1 layers\n",
      "[06/22/2022-05:30:11] [TRT] [V] After Myelin optimization: 1 layers\n",
      "[06/22/2022-05:30:11] [TRT] [V] Applying ScaleNodes fusions.\n",
      "[06/22/2022-05:30:11] [TRT] [V] After scale fusion: 1 layers\n",
      "[06/22/2022-05:30:11] [TRT] [V] After vertical fusions: 1 layers\n",
      "[06/22/2022-05:30:11] [TRT] [V] After dupe layer removal: 1 layers\n",
      "[06/22/2022-05:30:11] [TRT] [V] After final dead-layer removal: 1 layers\n",
      "[06/22/2022-05:30:11] [TRT] [V] After tensor merging: 1 layers\n",
      "[06/22/2022-05:30:11] [TRT] [V] After slice removal: 1 layers\n",
      "[06/22/2022-05:30:11] [TRT] [V] After concat removal: 1 layers\n",
      "[06/22/2022-05:30:11] [TRT] [V] Graph construction and optimization completed in 0.00209156 seconds.\n",
      "[06/22/2022-05:30:11] [TRT] [I] ---------- Layers Running on DLA ----------\n",
      "[06/22/2022-05:30:11] [TRT] [I] ---------- Layers Running on GPU ----------\n",
      "[06/22/2022-05:30:11] [TRT] [I] [GpuLayer] POOLING: (Unnamed Layer* 0) [Pooling]\n",
      "[06/22/2022-05:30:12] [TRT] [V] Using cublasLt as a tactic source\n",
      "[06/22/2022-05:30:12] [TRT] [I] [MemUsageChange] Init cuBLAS/cuBLASLt: CPU +260, GPU +247, now: CPU 704, GPU 3632 (MiB)\n",
      "[06/22/2022-05:30:12] [TRT] [V] Using cuDNN as a tactic source\n",
      "[06/22/2022-05:30:13] [TRT] [I] [MemUsageChange] Init cuDNN: CPU +84, GPU +81, now: CPU 788, GPU 3713 (MiB)\n",
      "[06/22/2022-05:30:13] [TRT] [I] Local timing cache in use. Profiling results in this builder pass will not be stored.\n",
      "[06/22/2022-05:30:13] [TRT] [V] Constructing optimization profile number 0 [1/1].\n",
      "[06/22/2022-05:30:13] [TRT] [V] Reserving memory for activation tensors. Host: 0 bytes Device: 758028 bytes\n",
      "[06/22/2022-05:30:13] [TRT] [V] =============== Computing reformatting costs\n",
      "[06/22/2022-05:30:13] [TRT] [V] =============== Computing reformatting costs\n",
      "[06/22/2022-05:30:13] [TRT] [V] =============== Computing costs for \n",
      "[06/22/2022-05:30:13] [TRT] [V] *************** Autotuning format combination: Float(151875,50625,225,1) -> Float(37632,12544,112,1) ***************\n",
      "[06/22/2022-05:30:13] [TRT] [V] --------------- Timing Runner: (Unnamed Layer* 0) [Pooling] (TiledPooling)\n",
      "[06/22/2022-05:30:13] [TRT] [V] Tactic: 257 Time: 0.209808\n",
      "[06/22/2022-05:30:13] [TRT] [V] Tactic: 65793 Time: 0.192117\n",
      "[06/22/2022-05:30:13] [TRT] [V] Tactic: 131329 Time: 0.247008\n",
      "[06/22/2022-05:30:13] [TRT] [V] Tactic: 196865 Time: 0.266891\n",
      "[06/22/2022-05:30:13] [TRT] [V] Tactic: 262401 Time: 0.228235\n",
      "[06/22/2022-05:30:13] [TRT] [V] Tactic: 327937 Time: 0.239131\n",
      "[06/22/2022-05:30:13] [TRT] [V] Tactic: 393473 Time: 0.242059\n",
      "[06/22/2022-05:30:13] [TRT] [V] Tactic: 459009 Time: 0.176272\n",
      "[06/22/2022-05:30:13] [TRT] [V] Tactic: 524545 Time: 0.160345\n",
      "[06/22/2022-05:30:13] [TRT] [V] Tactic: 590081 Time: 0.201099\n",
      "[06/22/2022-05:30:13] [TRT] [V] Tactic: 655617 Time: 0.205232\n",
      "[06/22/2022-05:30:13] [TRT] [V] Tactic: 721153 Time: 0.180267\n",
      "[06/22/2022-05:30:13] [TRT] [V] Tactic: 786689 Time: 0.183691\n",
      "[06/22/2022-05:30:13] [TRT] [V] Tactic: 852225 Time: 0.19104\n",
      "[06/22/2022-05:30:13] [TRT] [V] Tactic: 917761 Time: 0.153671\n",
      "[06/22/2022-05:30:13] [TRT] [V] Tactic: 983297 Time: 0.144658\n",
      "[06/22/2022-05:30:13] [TRT] [V] Tactic: 1048833 Time: 0.160356\n",
      "[06/22/2022-05:30:13] [TRT] [V] Tactic: 1114369 Time: 0.15462\n",
      "[06/22/2022-05:30:13] [TRT] [V] Tactic: 1179905 Time: 0.140117\n",
      "[06/22/2022-05:30:13] [TRT] [V] Tactic: 1245441 Time: 0.137621\n",
      "[06/22/2022-05:30:13] [TRT] [V] Tactic: 1310977 Time: 0.151047\n",
      "[06/22/2022-05:30:13] [TRT] [V] Tactic: 1376513 Time: 0.152359\n",
      "[06/22/2022-05:30:13] [TRT] [V] Tactic: 1442049 Time: 0.144562\n",
      "[06/22/2022-05:30:13] [TRT] [V] Tactic: 1507585 Time: 0.164889\n",
      "[06/22/2022-05:30:13] [TRT] [V] Tactic: 1573121 Time: 0.160743\n",
      "[06/22/2022-05:30:13] [TRT] [V] Tactic: 1638657 Time: 0.14917\n",
      "[06/22/2022-05:30:13] [TRT] [V] Tactic: 1704193 Time: 0.144764\n",
      "[06/22/2022-05:30:13] [TRT] [V] Tactic: 1769729 Time: 0.155253\n",
      "[06/22/2022-05:30:13] [TRT] [V] Tactic: 1835265 Time: 0.15696\n",
      "[06/22/2022-05:30:13] [TRT] [V] Tactic: 1900801 Time: 0.145436\n",
      "[06/22/2022-05:30:13] [TRT] [V] Tactic: 1966337 Time: 0.169088\n",
      "[06/22/2022-05:30:13] [TRT] [V] Tactic: 2031873 Time: 0.166343\n",
      "[06/22/2022-05:30:13] [TRT] [V] Tactic: 2097409 Time: 0.155644\n",
      "[06/22/2022-05:30:13] [TRT] [V] Tactic: 2162945 Time: 0.147634\n",
      "[06/22/2022-05:30:13] [TRT] [V] Tactic: 2228481 Time: 0.163552\n",
      "[06/22/2022-05:30:13] [TRT] [V] Tactic: 2294017 Time: 0.161152\n",
      "[06/22/2022-05:30:13] [TRT] [V] Tactic: 2359553 Time: 0.144576\n",
      "[06/22/2022-05:30:13] [TRT] [V] Tactic: 2425089 Time: 0.171776\n",
      "[06/22/2022-05:30:13] [TRT] [V] Tactic: 2490625 Time: 0.171227\n",
      "[06/22/2022-05:30:13] [TRT] [V] Tactic: 2556161 Time: 0.156455\n",
      "[06/22/2022-05:30:13] [TRT] [V] Tactic: 2621697 Time: 0.159737\n",
      "[06/22/2022-05:30:13] [TRT] [V] Tactic: 2687233 Time: 0.164516\n",
      "[06/22/2022-05:30:13] [TRT] [V] Tactic: 6947073 Time: 0.138059\n",
      "[06/22/2022-05:30:13] [TRT] [V] Fastest Tactic: 1245441 Time: 0.137621\n",
      "[06/22/2022-05:30:13] [TRT] [V] --------------- Timing Runner: (Unnamed Layer* 0) [Pooling] (CudnnPooling)\n",
      "[06/22/2022-05:30:13] [TRT] [V] Tactic: -1 Time: 0.196469\n",
      "[06/22/2022-05:30:13] [TRT] [V] Fastest Tactic: -1 Time: 0.196469\n",
      "[06/22/2022-05:30:13] [TRT] [V] --------------- Timing Runner: (Unnamed Layer* 0) [Pooling] (CaskPooling)\n",
      "[06/22/2022-05:30:13] [TRT] [V] (Unnamed Layer* 0) [Pooling] Set Tactic Name: sm50_xmma_pooling_fw_4d_FP32FP32NCHW_Max Tactic: -5359392427276731246\n",
      "[06/22/2022-05:30:13] [TRT] [V] Tactic: -5359392427276731246 Time: 0.202608\n",
      "[06/22/2022-05:30:13] [TRT] [V] Fastest Tactic: -5359392427276731246 Time: 0.202608\n",
      "[06/22/2022-05:30:13] [TRT] [V] >>>>>>>>>>>>>>> Chose Runner Type: TiledPooling Tactic: 1245441\n",
      "[06/22/2022-05:30:13] [TRT] [V] Formats and tactics selection completed in 0.112802 seconds.\n",
      "[06/22/2022-05:30:13] [TRT] [V] After reformat layers: 1 layers\n",
      "[06/22/2022-05:30:13] [TRT] [V] Pre-optimized block assignment.\n",
      "[06/22/2022-05:30:13] [TRT] [V] Block size 1073741824\n",
      "[06/22/2022-05:30:13] [TRT] [V] Total Activation Memory: 1073741824\n",
      "[06/22/2022-05:30:13] [TRT] [I] Detected 1 inputs and 1 output network tensors.\n",
      "[06/22/2022-05:30:13] [TRT] [V] Layer: (Unnamed Layer* 0) [Pooling] Host Persistent: 0 Device Persistent: 0 Scratch Memory: 0\n",
      "[06/22/2022-05:30:13] [TRT] [I] Total Host Persistent Memory: 0\n",
      "[06/22/2022-05:30:13] [TRT] [I] Total Device Persistent Memory: 0\n",
      "[06/22/2022-05:30:13] [TRT] [I] Total Scratch Memory: 0\n",
      "[06/22/2022-05:30:13] [TRT] [I] [MemUsageStats] Peak memory usage of TRT CPU/GPU memory allocators: CPU 0 MiB, GPU 1 MiB\n",
      "[06/22/2022-05:30:13] [TRT] [V] Optimized block assignment.\n",
      "[06/22/2022-05:30:13] [TRT] [I] Total Activation Memory: 0\n",
      "[06/22/2022-05:30:13] [TRT] [V] Disabling unused tactic source: CUDNN\n",
      "[06/22/2022-05:30:13] [TRT] [V] Disabling unused tactic source: CUBLAS, CUBLASLT\n",
      "[06/22/2022-05:30:13] [TRT] [V] Engine generation completed in 2.33929 seconds.\n",
      "[06/22/2022-05:30:13] [TRT] [V] Deleting timing cache: 1 entries, served 0 hits since creation.\n",
      "[06/22/2022-05:30:13] [TRT] [V] Engine Layer Information:\n",
      "Layer(TiledPooling): (Unnamed Layer* 0) [Pooling], Tactic: 1245441, input[Float(1,3,225,225)] -> output[Float(1,3,112,112)]\n",
      "[06/22/2022-05:30:13] [TRT] [I] [MemUsageChange] TensorRT-managed allocation in building engine: CPU +0, GPU +0, now: CPU 0, GPU 0 (MiB)\n",
      "[06/22/2022-05:30:13] [TRT] [I] Loaded engine size: 0 MiB\n",
      "[06/22/2022-05:30:13] [TRT] [V] Deserialization required 594 microseconds.\n",
      "[06/22/2022-05:30:13] [TRT] [I] [MemUsageChange] TensorRT-managed allocation in engine deserialization: CPU +0, GPU +0, now: CPU 0, GPU 0 (MiB)\n",
      "[06/22/2022-05:30:13] [TRT] [V] Total per-runner device persistent memory is 0\n",
      "[06/22/2022-05:30:13] [TRT] [V] Total per-runner host persistent memory is 0\n",
      "[06/22/2022-05:30:13] [TRT] [V] Allocated activation device memory of size 0\n",
      "[06/22/2022-05:30:13] [TRT] [I] [MemUsageChange] TensorRT-managed allocation in IExecutionContext creation: CPU +0, GPU +0, now: CPU 0, GPU 0 (MiB)\n"
     ]
    }
   ],
   "source": [
    "import tensorrt as trt\n",
    "import common\n",
    "\n",
    "TRT_LOGGER = trt.Logger(trt.Logger.VERBOSE)\n",
    "net_dict = None\n",
    "with build_engine(TRT_LOGGER) as engine:\n",
    "    inputs, outputs, bindings, stream = common.allocate_buffers(engine)\n",
    "    with engine.create_execution_context() as context:\n",
    "        inputs[0].host = input_batch.numpy()\n",
    "        trt_outputs = common.do_inference_v2( \\\n",
    "            context, bindings=bindings, inputs=inputs, outputs=outputs, stream=stream)"
   ]
  },
  {
   "cell_type": "code",
   "execution_count": 8,
   "metadata": {},
   "outputs": [
    {
     "data": {
      "text/html": [
       "<div>\n",
       "<style scoped>\n",
       "    .dataframe tbody tr th:only-of-type {\n",
       "        vertical-align: middle;\n",
       "    }\n",
       "\n",
       "    .dataframe tbody tr th {\n",
       "        vertical-align: top;\n",
       "    }\n",
       "\n",
       "    .dataframe thead th {\n",
       "        text-align: right;\n",
       "    }\n",
       "</style>\n",
       "<table border=\"1\" class=\"dataframe\">\n",
       "  <thead>\n",
       "    <tr style=\"text-align: right;\">\n",
       "      <th></th>\n",
       "      <th>Name</th>\n",
       "      <th>Type</th>\n",
       "      <th>Inputs</th>\n",
       "      <th>Outputs</th>\n",
       "      <th>Type Specific Params</th>\n",
       "    </tr>\n",
       "  </thead>\n",
       "  <tbody>\n",
       "    <tr>\n",
       "      <th>0</th>\n",
       "      <td>(Unnamed Layer* 0) [Pooling]</td>\n",
       "      <td>LayerType.POOLING</td>\n",
       "      <td>(1, 3, 225, 225)</td>\n",
       "      <td>(1, 3, 112, 112)</td>\n",
       "      <td>type=PoolingType.MAX wsize=(3, 3) stride=(2, 2...</td>\n",
       "    </tr>\n",
       "  </tbody>\n",
       "</table>\n",
       "</div>"
      ],
      "text/plain": [
       "                           Name               Type             Inputs  \\\n",
       "0  (Unnamed Layer* 0) [Pooling]  LayerType.POOLING   (1, 3, 225, 225)   \n",
       "\n",
       "             Outputs                               Type Specific Params  \n",
       "0   (1, 3, 112, 112)  type=PoolingType.MAX wsize=(3, 3) stride=(2, 2...  "
      ]
     },
     "execution_count": 8,
     "metadata": {},
     "output_type": "execute_result"
    }
   ],
   "source": [
    "import pandas as pd\n",
    "\n",
    "pd.DataFrame(net_dict)"
   ]
  },
  {
   "cell_type": "code",
   "execution_count": 9,
   "metadata": {},
   "outputs": [
    {
     "name": "stdout",
     "output_type": "stream",
     "text": [
      "[[[1.9086162  2.1730902  2.1730902  ... 2.7569187  1.3561108  2.299056  ]\n",
      "  [2.2189717  1.9053221  1.7694458  ... 1.0396745  1.3561108  1.3561108 ]\n",
      "  [2.6266236  0.7471319  1.8011373  ... 2.1103199  2.1103199  1.1804656 ]\n",
      "  ...\n",
      "  [1.2724688  1.2353026  1.3805821  ... 1.6026468  1.1303796  1.2193415 ]\n",
      "  [0.6395517  0.6395517  1.3805821  ... 0.77880335 1.893937   1.893937  ]\n",
      "  [1.1496416  1.3268417  1.3268417  ... 1.7681036  1.893937   1.893937  ]]\n",
      "\n",
      " [[2.1601562  2.1601562  1.9995507  ... 1.1893888  1.1567457  1.980887  ]\n",
      "  [2.1601562  2.1601562  1.1974529  ... 1.1893888  1.4159371  2.6569247 ]\n",
      "  [0.5783027  0.7675895  1.1974529  ... 2.2577891  2.0299096  2.6569247 ]\n",
      "  ...\n",
      "  [1.39357    1.2697114  2.4497547  ... 2.2015767  1.4375938  1.5441084 ]\n",
      "  [1.2697114  1.2940738  1.9532217  ... 1.5873559  1.5873559  1.9786321 ]\n",
      "  [1.8290291  1.2940738  3.39205    ... 1.5873559  1.5873559  1.8447142 ]]\n",
      "\n",
      " [[3.1606023  0.79254484 2.1143072  ... 2.3131964  2.3131964  1.2901431 ]\n",
      "  [2.0867102  1.2364686  2.1143072  ... 1.4188155  1.9653165  1.9653165 ]\n",
      "  [1.2019417  1.0351049  1.760292   ... 1.4188155  1.9653165  1.9653165 ]\n",
      "  ...\n",
      "  [1.0533743  2.165556   2.1823506  ... 0.72482747 2.6271756  1.0426387 ]\n",
      "  [1.0492266  1.8984237  1.3449779  ... 0.6417879  2.6271756  1.0426387 ]\n",
      "  [1.1923316  1.2779349  1.8109707  ... 1.1581271  2.3890085  1.3125161 ]]]\n"
     ]
    }
   ],
   "source": [
    "reference = trt_outputs[0].reshape((3, input_size // 2, input_size // 2))\n",
    "print(reference)"
   ]
  },
  {
   "cell_type": "code",
   "execution_count": 10,
   "metadata": {},
   "outputs": [],
   "source": [
    "import sys\n",
    "import os\n",
    "\n",
    "cur_path = %pwd\n",
    "plugin_path = os.path.join(cur_path, 'plugin')\n",
    "sys.path.append(plugin_path)\n",
    "from trt_plugin_pb2 import copy_Message\n",
    "from trt_plugin_pb2 import pooling_Message\n",
    "import trt_plugin_pb2"
   ]
  },
  {
   "cell_type": "code",
   "execution_count": 11,
   "metadata": {},
   "outputs": [],
   "source": [
    "import ctypes\n",
    "\n",
    "lib_file = os.path.join(plugin_path, 'build', 'libPoolingPlugin.so')\n",
    "lib = ctypes.CDLL(lib_file)"
   ]
  },
  {
   "cell_type": "code",
   "execution_count": 12,
   "metadata": {},
   "outputs": [
    {
     "name": "stdout",
     "output_type": "stream",
     "text": [
      "['CustomQKVToContextPluginDynamic', 'CustomQKVToContextPluginDynamic', 'CustomQKVToContextPluginDynamic', 'RnRes2Br1Br2c_TRT', 'RnRes2Br1Br2c_TRT', 'RnRes2FullFusion_TRT', 'SmallTileGEMM_TRT', 'RNNTEncoderPlugin', 'DLRM_BOTTOM_MLP_TRT', 'CustomSkipLayerNormPluginDynamic', 'CustomSkipLayerNormPluginDynamic', 'CustomSkipLayerNormPluginDynamic', 'CustomSkipLayerNormPluginDynamic', 'SingleStepLSTMPlugin', 'RnRes2Br2bBr2c_TRT', 'RnRes2Br2bBr2c_TRT', 'CustomGeluPluginDynamic', 'CustomFCPluginDynamic', 'CustomEmbLayerNormPluginDynamic', 'CustomEmbLayerNormPluginDynamic', 'CustomEmbLayerNormPluginDynamic', 'pooling', 'copy']\n",
      "['', '', '', '', '', '', '', '', '', '', '', '', '', '', '', '', '', '', '', '', '', 'macnica_trt_plugins', 'macnica_trt_plugins']\n"
     ]
    }
   ],
   "source": [
    "import tensorrt as trt\n",
    "\n",
    "registry = trt.get_plugin_registry()\n",
    "print([c.name for c in registry.plugin_creator_list])\n",
    "print([c.plugin_namespace for c in registry.plugin_creator_list])"
   ]
  },
  {
   "cell_type": "code",
   "execution_count": 13,
   "metadata": {},
   "outputs": [],
   "source": [
    "namespace = 'macnica_trt_plugins'\n",
    "macnica_creators = [c for c in registry.plugin_creator_list if c.plugin_namespace == namespace]\n",
    "for c in macnica_creators:\n",
    "    registry.register_creator(c, namespace)"
   ]
  },
  {
   "cell_type": "code",
   "execution_count": 14,
   "metadata": {},
   "outputs": [],
   "source": [
    "def define_trt_plugin_network(network):\n",
    "    # Input\n",
    "    input_tensor = network.add_input(name='input', dtype=trt.float32, shape=(1, 3, input_size, input_size))\n",
    "    \n",
    "    ### Custom Pooling Layer with CUDA or cuDNN ###\n",
    "    creator = registry.get_plugin_creator( \\\n",
    "        type='pooling', version='1', plugin_namespace='macnica_trt_plugins')\n",
    "    sz = input_tensor.shape\n",
    "    message = pooling_Message( \\\n",
    "        dims=sz, mode=trt_plugin_pb2.Maximum, window=[win_size, win_size], \\\n",
    "        stride=[stride, stride], impl=trt_plugin_pb2.CUDA)\n",
    "    plg = creator.deserialize_plugin('pooling', message.SerializeToString())\n",
    "    layer = network.add_plugin_v2(inputs=[input_tensor], plugin=plg)\n",
    "\n",
    "    # Output\n",
    "    layer.get_output(0).name = 'output'\n",
    "    network.mark_output(tensor=layer.get_output(0))"
   ]
  },
  {
   "cell_type": "code",
   "execution_count": 15,
   "metadata": {},
   "outputs": [],
   "source": [
    "import trt_analyzer\n",
    "import tensorrt as trt\n",
    "\n",
    "EXPLICIT_BATCH = 1 << (int)(trt.NetworkDefinitionCreationFlag.EXPLICIT_BATCH)\n",
    "\n",
    "def build_engine2(logger):\n",
    "    with trt.Builder(logger) as builder, builder.create_network(EXPLICIT_BATCH) as network, builder.create_builder_config() as config, trt.Runtime(TRT_LOGGER) as runtime:\n",
    "        config.set_memory_pool_limit(trt.MemoryPoolType.WORKSPACE, 1 << 30)\n",
    "        # Define the TRT network using weights from the PyTorch model.\n",
    "        define_trt_plugin_network(network)\n",
    "        #define_trt_network(network)\n",
    "        # Get network info\n",
    "        global net_dict\n",
    "        net_dict = trt_analyzer.network_dict(network)\n",
    "        # Build and return an engine.\n",
    "        plan = builder.build_serialized_network(network, config)\n",
    "        engine = runtime.deserialize_cuda_engine(plan)\n",
    "        return engine"
   ]
  },
  {
   "cell_type": "code",
   "execution_count": 16,
   "metadata": {},
   "outputs": [
    {
     "name": "stdout",
     "output_type": "stream",
     "text": [
      "[06/22/2022-05:30:14] [TRT] [I] [MemUsageChange] Init CUDA: CPU +0, GPU +0, now: CPU 792, GPU 3727 (MiB)\n",
      "[06/22/2022-05:30:14] [TRT] [I] [MemUsageChange] Init CUDA: CPU +0, GPU +0, now: CPU 792, GPU 3727 (MiB)\n",
      "[06/22/2022-05:30:14] [TRT] [V] Applying generic optimizations to the graph for inference.\n",
      "[06/22/2022-05:30:14] [TRT] [V] Original: 1 layers\n",
      "[06/22/2022-05:30:14] [TRT] [V] After dead-layer removal: 1 layers\n",
      "[06/22/2022-05:30:14] [TRT] [V] After Myelin optimization: 1 layers\n",
      "[06/22/2022-05:30:14] [TRT] [V] Applying ScaleNodes fusions.\n",
      "[06/22/2022-05:30:14] [TRT] [V] After scale fusion: 1 layers\n",
      "[06/22/2022-05:30:14] [TRT] [V] After vertical fusions: 1 layers\n",
      "[06/22/2022-05:30:14] [TRT] [V] After dupe layer removal: 1 layers\n",
      "[06/22/2022-05:30:14] [TRT] [V] After final dead-layer removal: 1 layers\n",
      "[06/22/2022-05:30:14] [TRT] [V] After tensor merging: 1 layers\n",
      "[06/22/2022-05:30:14] [TRT] [V] After slice removal: 1 layers\n",
      "[06/22/2022-05:30:14] [TRT] [V] After concat removal: 1 layers\n",
      "[06/22/2022-05:30:14] [TRT] [V] Graph construction and optimization completed in 0.00163611 seconds.\n",
      "[06/22/2022-05:30:14] [TRT] [I] ---------- Layers Running on DLA ----------\n",
      "[06/22/2022-05:30:14] [TRT] [I] ---------- Layers Running on GPU ----------\n",
      "[06/22/2022-05:30:14] [TRT] [I] [GpuLayer] PLUGIN_V2: (Unnamed Layer* 0) [PluginV2Ext]\n",
      "[06/22/2022-05:30:14] [TRT] [V] Using cublasLt as a tactic source\n",
      "[06/22/2022-05:30:14] [TRT] [I] [MemUsageChange] Init cuBLAS/cuBLASLt: CPU +0, GPU +0, now: CPU 792, GPU 3727 (MiB)\n",
      "[06/22/2022-05:30:14] [TRT] [V] Using cuDNN as a tactic source\n",
      "[06/22/2022-05:30:14] [TRT] [I] [MemUsageChange] Init cuDNN: CPU +1, GPU +0, now: CPU 793, GPU 3727 (MiB)\n",
      "[06/22/2022-05:30:14] [TRT] [I] Local timing cache in use. Profiling results in this builder pass will not be stored.\n",
      "[06/22/2022-05:30:14] [TRT] [V] Constructing optimization profile number 0 [1/1].\n",
      "[06/22/2022-05:30:14] [TRT] [V] Reserving memory for activation tensors. Host: 0 bytes Device: 758028 bytes\n",
      "[06/22/2022-05:30:14] [TRT] [V] =============== Computing reformatting costs\n",
      "[06/22/2022-05:30:14] [TRT] [V] =============== Computing reformatting costs\n",
      "[06/22/2022-05:30:14] [TRT] [V] =============== Computing costs for \n",
      "[06/22/2022-05:30:14] [TRT] [V] *************** Autotuning format combination: Float(151875,50625,225,1) -> Float(37632,12544,112,1) ***************\n",
      "[06/22/2022-05:30:14] [TRT] [V] --------------- Timing Runner: (Unnamed Layer* 0) [PluginV2Ext] (PluginV2)\n",
      "Process started.\n",
      "Process finished.\n",
      "Process started.\n",
      "Process finished.\n",
      "Process started.\n",
      "Process finished.\n",
      "Process started.\n",
      "Process finished.\n",
      "Process started.\n",
      "Process finished.\n",
      "Process started.\n",
      "Process finished.\n",
      "Process started.\n",
      "Process finished.\n",
      "Process started.\n",
      "Process finished.\n",
      "Process started.\n",
      "Process finished.\n",
      "Process started.\n",
      "Process finished.\n",
      "Process started.\n",
      "Process finished.\n",
      "Process started.\n",
      "Process finished.\n",
      "[06/22/2022-05:30:14] [TRT] [V] Tactic: 0 Time: 0.129355\n",
      "[06/22/2022-05:30:14] [TRT] [V] Fastest Tactic: 0 Time: 0.129355\n",
      "[06/22/2022-05:30:14] [TRT] [V] >>>>>>>>>>>>>>> Chose Runner Type: PluginV2 Tactic: 0\n",
      "[06/22/2022-05:30:14] [TRT] [V] Formats and tactics selection completed in 0.010313 seconds.\n",
      "[06/22/2022-05:30:14] [TRT] [V] After reformat layers: 1 layers\n",
      "[06/22/2022-05:30:14] [TRT] [V] Pre-optimized block assignment.\n",
      "[06/22/2022-05:30:14] [TRT] [V] Block size 1073741824\n",
      "[06/22/2022-05:30:14] [TRT] [V] Total Activation Memory: 1073741824\n",
      "[06/22/2022-05:30:14] [TRT] [I] Detected 1 inputs and 1 output network tensors.\n",
      "[06/22/2022-05:30:14] [TRT] [V] Layer: (Unnamed Layer* 0) [PluginV2Ext] Host Persistent: 16 Device Persistent: 0 Scratch Memory: 0\n",
      "[06/22/2022-05:30:14] [TRT] [I] Total Host Persistent Memory: 16\n",
      "[06/22/2022-05:30:14] [TRT] [I] Total Device Persistent Memory: 0\n",
      "[06/22/2022-05:30:14] [TRT] [I] Total Scratch Memory: 0\n",
      "[06/22/2022-05:30:14] [TRT] [I] [MemUsageStats] Peak memory usage of TRT CPU/GPU memory allocators: CPU 0 MiB, GPU 1 MiB\n",
      "[06/22/2022-05:30:14] [TRT] [V] Optimized block assignment.\n",
      "[06/22/2022-05:30:14] [TRT] [I] Total Activation Memory: 0\n",
      "[06/22/2022-05:30:14] [TRT] [V] Using cublasLt as a tactic source\n",
      "[06/22/2022-05:30:14] [TRT] [I] [MemUsageChange] Init cuBLAS/cuBLASLt: CPU +0, GPU +0, now: CPU 793, GPU 3727 (MiB)\n",
      "[06/22/2022-05:30:14] [TRT] [V] Using cuDNN as a tactic source\n",
      "[06/22/2022-05:30:14] [TRT] [I] [MemUsageChange] Init cuDNN: CPU +0, GPU +1, now: CPU 793, GPU 3728 (MiB)\n",
      "[06/22/2022-05:30:14] [TRT] [V] Engine generation completed in 0.0237481 seconds.\n",
      "[06/22/2022-05:30:14] [TRT] [V] Engine Layer Information:\n",
      "Layer(PluginV2): (Unnamed Layer* 0) [PluginV2Ext], Tactic: 0, input[Float(1,3,225,225)] -> output[Float(1,3,112,112)]\n",
      "[06/22/2022-05:30:14] [TRT] [I] [MemUsageChange] TensorRT-managed allocation in building engine: CPU +0, GPU +0, now: CPU 0, GPU 0 (MiB)\n",
      "[06/22/2022-05:30:14] [TRT] [I] Loaded engine size: 0 MiB\n",
      "[06/22/2022-05:30:14] [TRT] [V] Using cublasLt as a tactic source\n",
      "[06/22/2022-05:30:14] [TRT] [I] [MemUsageChange] Init cuBLAS/cuBLASLt: CPU +0, GPU +0, now: CPU 793, GPU 3728 (MiB)\n",
      "[06/22/2022-05:30:14] [TRT] [V] Using cuDNN as a tactic source\n",
      "[06/22/2022-05:30:14] [TRT] [I] [MemUsageChange] Init cuDNN: CPU +0, GPU +0, now: CPU 793, GPU 3728 (MiB)\n",
      "[06/22/2022-05:30:14] [TRT] [V] Deserialization required 7001 microseconds.\n",
      "[06/22/2022-05:30:14] [TRT] [I] [MemUsageChange] TensorRT-managed allocation in engine deserialization: CPU +0, GPU +0, now: CPU 0, GPU 0 (MiB)\n",
      "[06/22/2022-05:30:14] [TRT] [V] Using cublasLt as a tactic source\n",
      "[06/22/2022-05:30:14] [TRT] [I] [MemUsageChange] Init cuBLAS/cuBLASLt: CPU +0, GPU +0, now: CPU 793, GPU 3728 (MiB)\n",
      "[06/22/2022-05:30:14] [TRT] [V] Using cuDNN as a tactic source\n",
      "[06/22/2022-05:30:14] [TRT] [I] [MemUsageChange] Init cuDNN: CPU +0, GPU +0, now: CPU 793, GPU 3728 (MiB)\n",
      "[06/22/2022-05:30:14] [TRT] [V] Total per-runner device persistent memory is 0\n",
      "[06/22/2022-05:30:14] [TRT] [V] Total per-runner host persistent memory is 16\n",
      "[06/22/2022-05:30:14] [TRT] [V] Allocated activation device memory of size 0\n",
      "[06/22/2022-05:30:14] [TRT] [I] [MemUsageChange] TensorRT-managed allocation in IExecutionContext creation: CPU +0, GPU +0, now: CPU 0, GPU 0 (MiB)\n",
      "Process started.\n",
      "Process finished.\n"
     ]
    }
   ],
   "source": [
    "net_dict = None\n",
    "with build_engine2(TRT_LOGGER) as engine:\n",
    "    inputs, outputs, bindings, stream = common.allocate_buffers(engine)\n",
    "    with engine.create_execution_context() as context:\n",
    "        inputs[0].host = input_batch.numpy()\n",
    "        trt_outputs = common.do_inference_v2( \\\n",
    "            context, bindings=bindings, inputs=inputs, outputs=outputs, stream=stream)"
   ]
  },
  {
   "cell_type": "code",
   "execution_count": 17,
   "metadata": {},
   "outputs": [
    {
     "data": {
      "text/html": [
       "<div>\n",
       "<style scoped>\n",
       "    .dataframe tbody tr th:only-of-type {\n",
       "        vertical-align: middle;\n",
       "    }\n",
       "\n",
       "    .dataframe tbody tr th {\n",
       "        vertical-align: top;\n",
       "    }\n",
       "\n",
       "    .dataframe thead th {\n",
       "        text-align: right;\n",
       "    }\n",
       "</style>\n",
       "<table border=\"1\" class=\"dataframe\">\n",
       "  <thead>\n",
       "    <tr style=\"text-align: right;\">\n",
       "      <th></th>\n",
       "      <th>Name</th>\n",
       "      <th>Type</th>\n",
       "      <th>Inputs</th>\n",
       "      <th>Outputs</th>\n",
       "      <th>Type Specific Params</th>\n",
       "    </tr>\n",
       "  </thead>\n",
       "  <tbody>\n",
       "    <tr>\n",
       "      <th>0</th>\n",
       "      <td>(Unnamed Layer* 0) [PluginV2Ext]</td>\n",
       "      <td>LayerType.PLUGIN_V2</td>\n",
       "      <td>(1, 3, 225, 225)</td>\n",
       "      <td>(1, 3, 112, 112)</td>\n",
       "      <td></td>\n",
       "    </tr>\n",
       "  </tbody>\n",
       "</table>\n",
       "</div>"
      ],
      "text/plain": [
       "                               Name                 Type             Inputs  \\\n",
       "0  (Unnamed Layer* 0) [PluginV2Ext]  LayerType.PLUGIN_V2   (1, 3, 225, 225)   \n",
       "\n",
       "             Outputs Type Specific Params  \n",
       "0   (1, 3, 112, 112)                       "
      ]
     },
     "execution_count": 17,
     "metadata": {},
     "output_type": "execute_result"
    }
   ],
   "source": [
    "pd.DataFrame(net_dict)"
   ]
  },
  {
   "cell_type": "code",
   "execution_count": 18,
   "metadata": {},
   "outputs": [
    {
     "name": "stdout",
     "output_type": "stream",
     "text": [
      "[[[1.9086162  2.1730902  2.1730902  ... 2.7569187  1.3561108  2.299056  ]\n",
      "  [2.2189717  1.9053221  1.7694458  ... 1.0396745  1.3561108  1.3561108 ]\n",
      "  [2.6266236  0.7471319  1.8011373  ... 2.1103199  2.1103199  1.1804656 ]\n",
      "  ...\n",
      "  [1.2724688  1.2353026  1.3805821  ... 1.6026468  1.1303796  1.2193415 ]\n",
      "  [0.6395517  0.6395517  1.3805821  ... 0.77880335 1.893937   1.893937  ]\n",
      "  [1.1496416  1.3268417  1.3268417  ... 1.7681036  1.893937   1.893937  ]]\n",
      "\n",
      " [[2.1601562  2.1601562  1.9995507  ... 1.1893888  1.1567457  1.980887  ]\n",
      "  [2.1601562  2.1601562  1.1974529  ... 1.1893888  1.4159371  2.6569247 ]\n",
      "  [0.5783027  0.7675895  1.1974529  ... 2.2577891  2.0299096  2.6569247 ]\n",
      "  ...\n",
      "  [1.39357    1.2697114  2.4497547  ... 2.2015767  1.4375938  1.5441084 ]\n",
      "  [1.2697114  1.2940738  1.9532217  ... 1.5873559  1.5873559  1.9786321 ]\n",
      "  [1.8290291  1.2940738  3.39205    ... 1.5873559  1.5873559  1.8447142 ]]\n",
      "\n",
      " [[3.1606023  0.79254484 2.1143072  ... 2.3131964  2.3131964  1.2901431 ]\n",
      "  [2.0867102  1.2364686  2.1143072  ... 1.4188155  1.9653165  1.9653165 ]\n",
      "  [1.2019417  1.0351049  1.760292   ... 1.4188155  1.9653165  1.9653165 ]\n",
      "  ...\n",
      "  [1.0533743  2.165556   2.1823506  ... 0.72482747 2.6271756  1.0426387 ]\n",
      "  [1.0492266  1.8984237  1.3449779  ... 0.6417879  2.6271756  1.0426387 ]\n",
      "  [1.1923316  1.2779349  1.8109707  ... 1.1581271  2.3890085  1.3125161 ]]]\n"
     ]
    }
   ],
   "source": [
    "result = trt_outputs[0].reshape((3, output_size, output_size))\n",
    "print(result)"
   ]
  },
  {
   "cell_type": "code",
   "execution_count": 19,
   "metadata": {},
   "outputs": [
    {
     "name": "stdout",
     "output_type": "stream",
     "text": [
      "0.0\n"
     ]
    }
   ],
   "source": [
    "print(sum(abs(result.flatten() - reference.flatten())) / len(result.flatten()))"
   ]
  },
  {
   "cell_type": "code",
   "execution_count": null,
   "metadata": {},
   "outputs": [],
   "source": []
  }
 ],
 "metadata": {
  "kernelspec": {
   "display_name": "Python 3 (ipykernel)",
   "language": "python",
   "name": "python3"
  },
  "language_info": {
   "codemirror_mode": {
    "name": "ipython",
    "version": 3
   },
   "file_extension": ".py",
   "mimetype": "text/x-python",
   "name": "python",
   "nbconvert_exporter": "python",
   "pygments_lexer": "ipython3",
   "version": "3.8.10"
  }
 },
 "nbformat": 4,
 "nbformat_minor": 4
}
