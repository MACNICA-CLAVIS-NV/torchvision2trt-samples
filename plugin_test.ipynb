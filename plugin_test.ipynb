{
 "cells": [
  {
   "cell_type": "markdown",
   "metadata": {},
   "source": [
    "# A Programm to Test The Pooling Custom Layer TensorRT Plugin"
   ]
  },
  {
   "cell_type": "code",
   "execution_count": 1,
   "metadata": {},
   "outputs": [],
   "source": [
    "input_size = 225\n",
    "win_size = 3\n",
    "stride = 2\n",
    "output_size = input_size // stride"
   ]
  },
  {
   "cell_type": "code",
   "execution_count": 2,
   "metadata": {},
   "outputs": [],
   "source": [
    "import numpy as np\n",
    "import torch\n",
    "\n",
    "x = np.random.randn(3, input_size, input_size)\n",
    "x = np.float32(x)\n",
    "input_tensor = torch.tensor(x)\n",
    "input_batch = input_tensor.unsqueeze(0)"
   ]
  },
  {
   "cell_type": "code",
   "execution_count": 3,
   "metadata": {},
   "outputs": [
    {
     "data": {
      "text/plain": [
       "torch.Size([1, 3, 225, 225])"
      ]
     },
     "execution_count": 3,
     "metadata": {},
     "output_type": "execute_result"
    }
   ],
   "source": [
    "input_batch.shape"
   ]
  },
  {
   "cell_type": "code",
   "execution_count": 4,
   "metadata": {},
   "outputs": [
    {
     "data": {
      "text/plain": [
       "tensor([[[[-0.0916, -0.2049, -2.5235,  ...,  1.6918,  0.8317,  1.0882],\n",
       "          [ 0.5489, -0.2090, -0.5563,  ..., -0.1105, -0.7709, -1.1957],\n",
       "          [-0.9123, -0.0200, -0.4492,  ..., -1.7014,  0.6693, -0.5958],\n",
       "          ...,\n",
       "          [ 0.4422, -0.3637, -0.2588,  ...,  0.4260, -0.5451,  1.1153],\n",
       "          [-1.1933, -0.4092,  1.0897,  ..., -0.2070,  0.5956,  1.5591],\n",
       "          [-0.1582, -0.4287, -0.9983,  ...,  0.4669, -1.6858, -2.4387]],\n",
       "\n",
       "         [[ 0.7774, -1.3232, -0.3495,  ...,  1.2233,  0.6606,  0.7040],\n",
       "          [ 0.6343,  0.3259, -0.2368,  ..., -0.6005, -0.4800,  0.3855],\n",
       "          [-0.4922,  0.2318, -0.2382,  ..., -0.7706,  0.4016,  1.4081],\n",
       "          ...,\n",
       "          [-0.2572,  1.1225, -0.5840,  ...,  0.9771, -1.1394, -0.2674],\n",
       "          [ 0.5636, -0.7101,  0.0241,  ...,  0.9924, -1.0682, -0.8150],\n",
       "          [-2.3161,  1.6169, -0.0851,  ..., -1.1792,  0.1251, -0.0715]],\n",
       "\n",
       "         [[-1.0708,  0.9127, -0.8217,  ..., -0.3503, -0.7841, -0.2210],\n",
       "          [-1.1091, -0.5586,  1.1369,  ..., -0.1969, -0.0094,  0.7484],\n",
       "          [ 0.2534, -0.5476, -1.9136,  ...,  0.1206, -0.9183,  0.3644],\n",
       "          ...,\n",
       "          [ 0.4228, -0.1549,  0.7529,  ..., -0.8976, -0.6594,  1.4724],\n",
       "          [ 1.5974, -0.8459, -0.7351,  ..., -0.5951, -0.5345,  0.2631],\n",
       "          [ 0.0417, -0.1639, -0.0402,  ...,  1.6172,  0.6103, -0.1017]]]])"
      ]
     },
     "execution_count": 4,
     "metadata": {},
     "output_type": "execute_result"
    }
   ],
   "source": [
    "input_batch"
   ]
  },
  {
   "cell_type": "code",
   "execution_count": 5,
   "metadata": {},
   "outputs": [],
   "source": [
    "def define_trt_network(network):\n",
    "    # Input\n",
    "    input_tensor = network.add_input(name='input', dtype=trt.float32, shape=(1, 3, input_size, input_size))\n",
    "\n",
    "    # MaxPool2d\n",
    "    layer = network.add_pooling( \\\n",
    "        input=input_tensor, type=trt.PoolingType.MAX, window_size=(win_size, win_size))\n",
    "    layer.stride = (stride, stride)\n",
    "\n",
    "    # Output\n",
    "    layer.get_output(0).name = 'output'\n",
    "    network.mark_output(tensor=layer.get_output(0))"
   ]
  },
  {
   "cell_type": "code",
   "execution_count": 6,
   "metadata": {},
   "outputs": [],
   "source": [
    "import trt_analyzer\n",
    "import tensorrt as trt\n",
    "\n",
    "EXPLICIT_BATCH = 1 << (int)(trt.NetworkDefinitionCreationFlag.EXPLICIT_BATCH)\n",
    "\n",
    "def build_engine(logger):\n",
    "    with trt.Builder(logger) as builder, builder.create_network(EXPLICIT_BATCH) as network, builder.create_builder_config() as config, trt.Runtime(TRT_LOGGER) as runtime:\n",
    "        config.max_workspace_size = 1 << 30\n",
    "        # Define the TRT network using weights from the PyTorch model.\n",
    "        #define_trt_plugin_network(network)\n",
    "        define_trt_network(network)\n",
    "        # Get network info\n",
    "        global net_dict\n",
    "        net_dict = trt_analyzer.network_dict(network)\n",
    "        # Build and return an engine.\n",
    "        plan = builder.build_serialized_network(network, config)\n",
    "        engine = runtime.deserialize_cuda_engine(plan)\n",
    "        return engine"
   ]
  },
  {
   "cell_type": "code",
   "execution_count": 7,
   "metadata": {},
   "outputs": [
    {
     "name": "stderr",
     "output_type": "stream",
     "text": [
      "/usr/local/lib/python3.6/dist-packages/ipykernel_launcher.py:7: DeprecationWarning: Use add_pooling_nd instead.\n",
      "  import sys\n",
      "/usr/local/lib/python3.6/dist-packages/ipykernel_launcher.py:8: DeprecationWarning: Use stride_nd instead.\n",
      "  \n"
     ]
    }
   ],
   "source": [
    "import tensorrt as trt\n",
    "import common\n",
    "\n",
    "TRT_LOGGER = trt.Logger(trt.Logger.VERBOSE)\n",
    "net_dict = None\n",
    "with build_engine(TRT_LOGGER) as engine:\n",
    "    inputs, outputs, bindings, stream = common.allocate_buffers(engine)\n",
    "    with engine.create_execution_context() as context:\n",
    "        inputs[0].host = input_batch.numpy()\n",
    "        trt_outputs = common.do_inference_v2( \\\n",
    "            context, bindings=bindings, inputs=inputs, outputs=outputs, stream=stream)"
   ]
  },
  {
   "cell_type": "code",
   "execution_count": 8,
   "metadata": {},
   "outputs": [
    {
     "data": {
      "text/html": [
       "<div>\n",
       "<style scoped>\n",
       "    .dataframe tbody tr th:only-of-type {\n",
       "        vertical-align: middle;\n",
       "    }\n",
       "\n",
       "    .dataframe tbody tr th {\n",
       "        vertical-align: top;\n",
       "    }\n",
       "\n",
       "    .dataframe thead th {\n",
       "        text-align: right;\n",
       "    }\n",
       "</style>\n",
       "<table border=\"1\" class=\"dataframe\">\n",
       "  <thead>\n",
       "    <tr style=\"text-align: right;\">\n",
       "      <th></th>\n",
       "      <th>Name</th>\n",
       "      <th>Type</th>\n",
       "      <th>Inputs</th>\n",
       "      <th>Outputs</th>\n",
       "      <th>Type Specific Params</th>\n",
       "    </tr>\n",
       "  </thead>\n",
       "  <tbody>\n",
       "    <tr>\n",
       "      <th>0</th>\n",
       "      <td>(Unnamed Layer* 0) [Pooling]</td>\n",
       "      <td>LayerType.POOLING</td>\n",
       "      <td>(1, 3, 225, 225)</td>\n",
       "      <td>(1, 3, 112, 112)</td>\n",
       "      <td>type=PoolingType.MAX wsize=(3, 3) stride=(2, 2...</td>\n",
       "    </tr>\n",
       "  </tbody>\n",
       "</table>\n",
       "</div>"
      ],
      "text/plain": [
       "                           Name               Type             Inputs  \\\n",
       "0  (Unnamed Layer* 0) [Pooling]  LayerType.POOLING   (1, 3, 225, 225)   \n",
       "\n",
       "             Outputs                               Type Specific Params  \n",
       "0   (1, 3, 112, 112)  type=PoolingType.MAX wsize=(3, 3) stride=(2, 2...  "
      ]
     },
     "execution_count": 8,
     "metadata": {},
     "output_type": "execute_result"
    }
   ],
   "source": [
    "import pandas as pd\n",
    "\n",
    "pd.DataFrame(net_dict)"
   ]
  },
  {
   "cell_type": "code",
   "execution_count": 9,
   "metadata": {},
   "outputs": [
    {
     "name": "stdout",
     "output_type": "stream",
     "text": [
      "[[[ 0.54893416  1.989144    1.989144   ...  1.3599222   1.6918298\n",
      "    1.6918298 ]\n",
      "  [ 0.15404245  0.5594461   1.059617   ...  2.011133    0.85054946\n",
      "    0.66932017]\n",
      "  [ 1.4160961   2.2378023   2.2378023  ...  1.4213791   0.39022008\n",
      "    0.39022008]\n",
      "  ...\n",
      "  [ 1.8694088   0.92679745  0.67997384 ...  1.9961305   1.6812259\n",
      "    0.97576284]\n",
      "  [ 1.8694088   1.1513      1.1513     ...  1.9961305   1.7335786\n",
      "    1.1152521 ]\n",
      "  [ 1.0897418   1.4958568   1.4958568  ...  2.5603087   2.5603087\n",
      "    1.5591258 ]]\n",
      "\n",
      " [[ 0.7773949   1.9087864   1.3096867  ...  2.6800668   2.4206667\n",
      "    1.4081054 ]\n",
      "  [ 1.6873859   2.2672944   1.0372812  ...  1.8019952   1.5644099\n",
      "    1.5644099 ]\n",
      "  [ 1.6463834   0.28332746  1.3296348  ...  0.824375    1.0844419\n",
      "    0.9269205 ]\n",
      "  ...\n",
      "  [ 1.4914231   0.68575054  1.4856282  ...  1.7178365   1.7178365\n",
      "    1.8403813 ]\n",
      "  [ 1.4914231   0.94579667  0.92012715 ...  1.5533671   1.5533671\n",
      "    1.8403813 ]\n",
      "  [ 1.6168652   1.4979389   2.0956516  ...  0.57644784  0.9924499\n",
      "    0.9924499 ]]\n",
      "\n",
      " [[ 1.136927    1.136927    0.9808186  ...  1.291911    1.2185699\n",
      "    0.74843377]\n",
      "  [ 1.0336491   1.0336491   1.6371843  ...  1.9779451   1.2607626\n",
      "    1.0593182 ]\n",
      "  [ 1.0336491   1.0336491   0.34122998 ...  1.9779451   1.2607626\n",
      "    1.0388026 ]\n",
      "  ...\n",
      "  [ 1.1247528   0.23926798  0.69119537 ...  1.2789179   2.2380507\n",
      "    2.2380507 ]\n",
      "  [ 0.752876    0.752876    1.8024987  ...  1.1784016  -0.3788796\n",
      "    1.4723558 ]\n",
      "  [ 1.5973654   0.80394036  1.8024987  ...  2.2807593   2.2807593\n",
      "    1.6172153 ]]]\n"
     ]
    }
   ],
   "source": [
    "reference = trt_outputs[0].reshape((3, input_size // 2, input_size // 2))\n",
    "print(reference)"
   ]
  },
  {
   "cell_type": "code",
   "execution_count": 10,
   "metadata": {},
   "outputs": [],
   "source": [
    "import sys\n",
    "import os\n",
    "\n",
    "cur_path = %pwd\n",
    "plugin_path = os.path.join(cur_path, 'plugin')\n",
    "sys.path.append(plugin_path)\n",
    "from trt_plugin_pb2 import copy_Message\n",
    "from trt_plugin_pb2 import pooling_Message\n",
    "import trt_plugin_pb2"
   ]
  },
  {
   "cell_type": "code",
   "execution_count": 11,
   "metadata": {},
   "outputs": [],
   "source": [
    "import ctypes\n",
    "\n",
    "lib_file = os.path.join(plugin_path, 'build', 'libPoolingPlugin.so')\n",
    "lib = ctypes.CDLL(lib_file)"
   ]
  },
  {
   "cell_type": "code",
   "execution_count": 12,
   "metadata": {},
   "outputs": [
    {
     "name": "stdout",
     "output_type": "stream",
     "text": [
      "['CustomSkipLayerNormPluginDynamic', 'CustomSkipLayerNormPluginDynamic', 'CustomEmbLayerNormPluginDynamic', 'RnRes2Br1Br2c_TRT', 'RnRes2Br1Br2c_TRT', 'CustomQKVToContextPluginDynamic', 'CustomQKVToContextPluginDynamic', 'CustomSkipLayerNormPluginDynamic', 'CustomSkipLayerNormPluginDynamic', 'CustomGeluPluginDynamic', 'CustomEmbLayerNormPluginDynamic', 'CustomEmbLayerNormPluginDynamic', 'CgPersistentLSTMPlugin_TRT', 'SingleStepLSTMPlugin', 'RnRes2Br2bBr2c_TRT', 'RnRes2Br2bBr2c_TRT', 'CustomFCPluginDynamic', 'CustomQKVToContextPluginDynamic', 'GroupNormalizationPlugin', 'RnRes2FullFusion_TRT', 'InstanceNormalization_TRT', 'pooling', 'copy']\n",
      "['', '', '', '', '', '', '', '', '', '', '', '', '', '', '', '', '', '', '', '', '', 'macnica_trt_plugins', 'macnica_trt_plugins']\n"
     ]
    }
   ],
   "source": [
    "import tensorrt as trt\n",
    "\n",
    "registry = trt.get_plugin_registry()\n",
    "print([c.name for c in registry.plugin_creator_list])\n",
    "print([c.plugin_namespace for c in registry.plugin_creator_list])"
   ]
  },
  {
   "cell_type": "code",
   "execution_count": 13,
   "metadata": {},
   "outputs": [],
   "source": [
    "namespace = 'macnica_trt_plugins'\n",
    "macnica_creators = [c for c in registry.plugin_creator_list if c.plugin_namespace == namespace]\n",
    "for c in macnica_creators:\n",
    "    registry.register_creator(c, namespace)"
   ]
  },
  {
   "cell_type": "code",
   "execution_count": 14,
   "metadata": {},
   "outputs": [],
   "source": [
    "def define_trt_plugin_network(network):\n",
    "    # Input\n",
    "    input_tensor = network.add_input(name='input', dtype=trt.float32, shape=(1, 3, input_size, input_size))\n",
    "    \n",
    "    ### Custom Pooling Layer with CUDA or cuDNN ###\n",
    "    creator = registry.get_plugin_creator( \\\n",
    "        type='pooling', version='1', plugin_namespace='macnica_trt_plugins')\n",
    "    sz = input_tensor.shape\n",
    "    message = pooling_Message( \\\n",
    "        dims=sz, mode=trt_plugin_pb2.Maximum, window=[win_size, win_size], \\\n",
    "        stride=[stride, stride], impl=trt_plugin_pb2.CUDA)\n",
    "    plg = creator.deserialize_plugin('pooling', message.SerializeToString())\n",
    "    layer = network.add_plugin_v2(inputs=[input_tensor], plugin=plg)\n",
    "\n",
    "    # Output\n",
    "    layer.get_output(0).name = 'output'\n",
    "    network.mark_output(tensor=layer.get_output(0))"
   ]
  },
  {
   "cell_type": "code",
   "execution_count": 19,
   "metadata": {},
   "outputs": [],
   "source": [
    "import trt_analyzer\n",
    "import tensorrt as trt\n",
    "\n",
    "EXPLICIT_BATCH = 1 << (int)(trt.NetworkDefinitionCreationFlag.EXPLICIT_BATCH)\n",
    "\n",
    "def build_engine2(logger):\n",
    "    with trt.Builder(logger) as builder, builder.create_network(EXPLICIT_BATCH) as network, builder.create_builder_config() as config, trt.Runtime(TRT_LOGGER) as runtime:\n",
    "        config.max_workspace_size = 1 << 30\n",
    "        # Define the TRT network using weights from the PyTorch model.\n",
    "        define_trt_plugin_network(network)\n",
    "        #define_trt_network(network)\n",
    "        # Get network info\n",
    "        global net_dict\n",
    "        net_dict = trt_analyzer.network_dict(network)\n",
    "        # Build and return an engine.\n",
    "        plan = builder.build_serialized_network(network, config)\n",
    "        engine = runtime.deserialize_cuda_engine(plan)\n",
    "        return engine"
   ]
  },
  {
   "cell_type": "code",
   "execution_count": 20,
   "metadata": {},
   "outputs": [],
   "source": [
    "net_dict = None\n",
    "with build_engine2(TRT_LOGGER) as engine:\n",
    "    inputs, outputs, bindings, stream = common.allocate_buffers(engine)\n",
    "    with engine.create_execution_context() as context:\n",
    "        inputs[0].host = input_batch.numpy()\n",
    "        trt_outputs = common.do_inference_v2( \\\n",
    "            context, bindings=bindings, inputs=inputs, outputs=outputs, stream=stream)"
   ]
  },
  {
   "cell_type": "code",
   "execution_count": 21,
   "metadata": {},
   "outputs": [
    {
     "data": {
      "text/html": [
       "<div>\n",
       "<style scoped>\n",
       "    .dataframe tbody tr th:only-of-type {\n",
       "        vertical-align: middle;\n",
       "    }\n",
       "\n",
       "    .dataframe tbody tr th {\n",
       "        vertical-align: top;\n",
       "    }\n",
       "\n",
       "    .dataframe thead th {\n",
       "        text-align: right;\n",
       "    }\n",
       "</style>\n",
       "<table border=\"1\" class=\"dataframe\">\n",
       "  <thead>\n",
       "    <tr style=\"text-align: right;\">\n",
       "      <th></th>\n",
       "      <th>Name</th>\n",
       "      <th>Type</th>\n",
       "      <th>Inputs</th>\n",
       "      <th>Outputs</th>\n",
       "      <th>Type Specific Params</th>\n",
       "    </tr>\n",
       "  </thead>\n",
       "  <tbody>\n",
       "    <tr>\n",
       "      <th>0</th>\n",
       "      <td>(Unnamed Layer* 0) [PluginV2Ext]</td>\n",
       "      <td>LayerType.PLUGIN_V2</td>\n",
       "      <td>(1, 3, 225, 225)</td>\n",
       "      <td>(1, 3, 112, 112)</td>\n",
       "      <td></td>\n",
       "    </tr>\n",
       "  </tbody>\n",
       "</table>\n",
       "</div>"
      ],
      "text/plain": [
       "                               Name                 Type             Inputs  \\\n",
       "0  (Unnamed Layer* 0) [PluginV2Ext]  LayerType.PLUGIN_V2   (1, 3, 225, 225)   \n",
       "\n",
       "             Outputs Type Specific Params  \n",
       "0   (1, 3, 112, 112)                       "
      ]
     },
     "execution_count": 21,
     "metadata": {},
     "output_type": "execute_result"
    }
   ],
   "source": [
    "pd.DataFrame(net_dict)"
   ]
  },
  {
   "cell_type": "code",
   "execution_count": 22,
   "metadata": {},
   "outputs": [
    {
     "name": "stdout",
     "output_type": "stream",
     "text": [
      "[[[ 0.54893416  1.989144    1.989144   ...  1.3599222   1.6918298\n",
      "    1.6918298 ]\n",
      "  [ 0.15404245  0.5594461   1.059617   ...  2.011133    0.85054946\n",
      "    0.66932017]\n",
      "  [ 1.4160961   2.2378023   2.2378023  ...  1.4213791   0.39022008\n",
      "    0.39022008]\n",
      "  ...\n",
      "  [ 1.8694088   0.92679745  0.67997384 ...  1.9961305   1.6812259\n",
      "    0.97576284]\n",
      "  [ 1.8694088   1.1513      1.1513     ...  1.9961305   1.7335786\n",
      "    1.1152521 ]\n",
      "  [ 1.0897418   1.4958568   1.4958568  ...  2.5603087   2.5603087\n",
      "    1.5591258 ]]\n",
      "\n",
      " [[ 0.7773949   1.9087864   1.3096867  ...  2.6800668   2.4206667\n",
      "    1.4081054 ]\n",
      "  [ 1.6873859   2.2672944   1.0372812  ...  1.8019952   1.5644099\n",
      "    1.5644099 ]\n",
      "  [ 1.6463834   0.28332746  1.3296348  ...  0.824375    1.0844419\n",
      "    0.9269205 ]\n",
      "  ...\n",
      "  [ 1.4914231   0.68575054  1.4856282  ...  1.7178365   1.7178365\n",
      "    1.8403813 ]\n",
      "  [ 1.4914231   0.94579667  0.92012715 ...  1.5533671   1.5533671\n",
      "    1.8403813 ]\n",
      "  [ 1.6168652   1.4979389   2.0956516  ...  0.57644784  0.9924499\n",
      "    0.9924499 ]]\n",
      "\n",
      " [[ 1.136927    1.136927    0.9808186  ...  1.291911    1.2185699\n",
      "    0.74843377]\n",
      "  [ 1.0336491   1.0336491   1.6371843  ...  1.9779451   1.2607626\n",
      "    1.0593182 ]\n",
      "  [ 1.0336491   1.0336491   0.34122998 ...  1.9779451   1.2607626\n",
      "    1.0388026 ]\n",
      "  ...\n",
      "  [ 1.1247528   0.23926798  0.69119537 ...  1.2789179   2.2380507\n",
      "    2.2380507 ]\n",
      "  [ 0.752876    0.752876    1.8024987  ...  1.1784016  -0.3788796\n",
      "    1.4723558 ]\n",
      "  [ 1.5973654   0.80394036  1.8024987  ...  2.2807593   2.2807593\n",
      "    1.6172153 ]]]\n"
     ]
    }
   ],
   "source": [
    "result = trt_outputs[0].reshape((3, output_size, output_size))\n",
    "print(result)"
   ]
  },
  {
   "cell_type": "code",
   "execution_count": 23,
   "metadata": {},
   "outputs": [
    {
     "name": "stdout",
     "output_type": "stream",
     "text": [
      "0.0\n"
     ]
    }
   ],
   "source": [
    "print(sum(abs(result.flatten() - reference.flatten())) / len(result.flatten()))"
   ]
  },
  {
   "cell_type": "code",
   "execution_count": null,
   "metadata": {},
   "outputs": [],
   "source": []
  }
 ],
 "metadata": {
  "kernelspec": {
   "display_name": "Python 3",
   "language": "python",
   "name": "python3"
  },
  "language_info": {
   "codemirror_mode": {
    "name": "ipython",
    "version": 3
   },
   "file_extension": ".py",
   "mimetype": "text/x-python",
   "name": "python",
   "nbconvert_exporter": "python",
   "pygments_lexer": "ipython3",
   "version": "3.6.9"
  }
 },
 "nbformat": 4,
 "nbformat_minor": 4
}
