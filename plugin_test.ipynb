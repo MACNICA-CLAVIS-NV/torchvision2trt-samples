{
 "cells": [
  {
   "cell_type": "markdown",
   "metadata": {},
   "source": [
    "# A Programm to Test The Pooling Custom Layer TensorRT Plugin"
   ]
  },
  {
   "cell_type": "code",
   "execution_count": 1,
   "metadata": {},
   "outputs": [],
   "source": [
    "input_size = 225\n",
    "win_size = 3\n",
    "stride = 2\n",
    "output_size = input_size // stride"
   ]
  },
  {
   "cell_type": "code",
   "execution_count": 2,
   "metadata": {},
   "outputs": [],
   "source": [
    "import numpy as np\n",
    "import torch\n",
    "\n",
    "x = np.random.randn(3, input_size, input_size)\n",
    "x = np.float32(x)\n",
    "input_tensor = torch.tensor(x)\n",
    "input_batch = input_tensor.unsqueeze(0)"
   ]
  },
  {
   "cell_type": "code",
   "execution_count": 3,
   "metadata": {},
   "outputs": [
    {
     "data": {
      "text/plain": [
       "torch.Size([1, 3, 225, 225])"
      ]
     },
     "execution_count": 3,
     "metadata": {},
     "output_type": "execute_result"
    }
   ],
   "source": [
    "input_batch.shape"
   ]
  },
  {
   "cell_type": "code",
   "execution_count": 4,
   "metadata": {},
   "outputs": [
    {
     "data": {
      "text/plain": [
       "tensor([[[[-3.4300e-01, -1.2683e+00, -6.8166e-01,  ...,  2.3276e-01,\n",
       "            6.8599e-01,  2.2802e-01],\n",
       "          [-8.2657e-01, -8.7959e-01,  1.3487e-01,  ...,  5.9657e-01,\n",
       "            6.2009e-01,  1.6774e+00],\n",
       "          [ 1.3030e+00,  1.5474e+00,  1.2493e-01,  ..., -6.1770e-01,\n",
       "           -5.5775e-01, -1.7098e+00],\n",
       "          ...,\n",
       "          [ 1.4101e+00, -6.1451e-01,  2.8023e-01,  ...,  1.0123e+00,\n",
       "            1.3470e+00, -1.5766e-01],\n",
       "          [ 7.9558e-01,  7.8580e-01,  1.5830e+00,  ..., -1.5515e-01,\n",
       "           -5.8068e-02, -1.0698e-01],\n",
       "          [-7.9047e-01, -1.4731e+00, -2.8884e-01,  ...,  2.3702e-01,\n",
       "            8.4082e-01, -1.1182e+00]],\n",
       "\n",
       "         [[-1.4607e+00, -6.1091e-01,  9.8892e-01,  ...,  1.8890e-01,\n",
       "            9.9963e-01, -3.6593e-01],\n",
       "          [-1.2771e+00, -1.4688e+00,  2.2299e+00,  ...,  4.9653e-01,\n",
       "           -1.5223e+00, -7.3137e-02],\n",
       "          [-1.8243e-01, -2.4507e+00,  1.7984e-01,  ...,  3.0217e-01,\n",
       "            1.2201e+00,  4.3842e-01],\n",
       "          ...,\n",
       "          [ 4.8642e-01,  1.3215e+00, -6.0944e-01,  ...,  8.5655e-01,\n",
       "            3.7550e-01, -8.0088e-02],\n",
       "          [ 1.5928e-01, -3.5732e-01,  1.7298e+00,  ...,  2.9790e-01,\n",
       "            1.0230e+00,  2.3822e-01],\n",
       "          [ 1.0206e-02, -1.8963e+00,  3.4596e-01,  ...,  4.5161e-01,\n",
       "           -1.4551e-03, -1.0547e+00]],\n",
       "\n",
       "         [[-5.0986e-01,  3.0771e-01,  1.9161e+00,  ..., -7.8525e-02,\n",
       "            2.9036e-01,  5.6634e-01],\n",
       "          [ 8.2397e-01, -1.3661e+00,  5.1270e-01,  ...,  2.6533e-01,\n",
       "           -9.6614e-01, -1.7747e+00],\n",
       "          [-4.6196e-01,  1.0404e+00,  2.7305e-01,  ..., -7.9834e-01,\n",
       "           -7.2988e-02,  9.8385e-01],\n",
       "          ...,\n",
       "          [-5.2853e-01, -6.7490e-01, -1.3421e+00,  ...,  8.7673e-01,\n",
       "            2.3346e-01,  1.1834e+00],\n",
       "          [ 5.3118e-01,  7.0326e-01, -1.7636e+00,  ..., -4.4642e-01,\n",
       "           -2.1991e+00,  1.8740e-01],\n",
       "          [-3.8986e-01, -2.1282e+00, -5.1523e-01,  ...,  4.0571e-01,\n",
       "           -1.7877e+00, -4.6365e-01]]]])"
      ]
     },
     "execution_count": 4,
     "metadata": {},
     "output_type": "execute_result"
    }
   ],
   "source": [
    "input_batch"
   ]
  },
  {
   "cell_type": "code",
   "execution_count": 5,
   "metadata": {},
   "outputs": [],
   "source": [
    "def define_trt_network(network):\n",
    "    # Input\n",
    "    input_tensor = network.add_input(name='input', dtype=trt.float32, shape=(1, 3, input_size, input_size))\n",
    "\n",
    "    # MaxPool2d\n",
    "    layer = network.add_pooling( \\\n",
    "        input=input_tensor, type=trt.PoolingType.MAX, window_size=(win_size, win_size))\n",
    "    layer.stride = (stride, stride)\n",
    "\n",
    "    # Output\n",
    "    layer.get_output(0).name = 'output'\n",
    "    network.mark_output(tensor=layer.get_output(0))"
   ]
  },
  {
   "cell_type": "code",
   "execution_count": 6,
   "metadata": {},
   "outputs": [],
   "source": [
    "import trt_analyzer\n",
    "import tensorrt as trt\n",
    "\n",
    "EXPLICIT_BATCH = 1 << (int)(trt.NetworkDefinitionCreationFlag.EXPLICIT_BATCH)\n",
    "\n",
    "def build_engine(logger):\n",
    "    with trt.Builder(logger) as builder, builder.create_network(EXPLICIT_BATCH) as network:\n",
    "        builder.max_workspace_size = 1 << 30\n",
    "        # Define the TRT network using weights from the PyTorch model.\n",
    "        #define_trt_plugin_network(network)\n",
    "        define_trt_network(network)\n",
    "        # Get network info\n",
    "        global net_dict\n",
    "        net_dict = trt_analyzer.network_dict(network)\n",
    "        # Build and return an engine.\n",
    "        return builder.build_cuda_engine(network)"
   ]
  },
  {
   "cell_type": "code",
   "execution_count": 7,
   "metadata": {},
   "outputs": [],
   "source": [
    "import tensorrt as trt\n",
    "import common\n",
    "\n",
    "TRT_LOGGER = trt.Logger(trt.Logger.VERBOSE)\n",
    "net_dict = None\n",
    "with build_engine(TRT_LOGGER) as engine:\n",
    "    inputs, outputs, bindings, stream = common.allocate_buffers(engine)\n",
    "    with engine.create_execution_context() as context:\n",
    "        inputs[0].host = input_batch.numpy()\n",
    "        trt_outputs = common.do_inference_v2( \\\n",
    "            context, bindings=bindings, inputs=inputs, outputs=outputs, stream=stream)"
   ]
  },
  {
   "cell_type": "code",
   "execution_count": 8,
   "metadata": {},
   "outputs": [
    {
     "data": {
      "text/html": [
       "<div>\n",
       "<style scoped>\n",
       "    .dataframe tbody tr th:only-of-type {\n",
       "        vertical-align: middle;\n",
       "    }\n",
       "\n",
       "    .dataframe tbody tr th {\n",
       "        vertical-align: top;\n",
       "    }\n",
       "\n",
       "    .dataframe thead th {\n",
       "        text-align: right;\n",
       "    }\n",
       "</style>\n",
       "<table border=\"1\" class=\"dataframe\">\n",
       "  <thead>\n",
       "    <tr style=\"text-align: right;\">\n",
       "      <th></th>\n",
       "      <th>Name</th>\n",
       "      <th>Type</th>\n",
       "      <th>Inputs</th>\n",
       "      <th>Outputs</th>\n",
       "      <th>Type Specific Params</th>\n",
       "    </tr>\n",
       "  </thead>\n",
       "  <tbody>\n",
       "    <tr>\n",
       "      <th>0</th>\n",
       "      <td>(Unnamed Layer* 0) [Pooling]</td>\n",
       "      <td>LayerType.POOLING</td>\n",
       "      <td>(1, 3, 225, 225)</td>\n",
       "      <td>(1, 3, 112, 112)</td>\n",
       "      <td>type=PoolingType.MAX wsize=(3, 3) stride=(2, 2...</td>\n",
       "    </tr>\n",
       "  </tbody>\n",
       "</table>\n",
       "</div>"
      ],
      "text/plain": [
       "                           Name               Type             Inputs  \\\n",
       "0  (Unnamed Layer* 0) [Pooling]  LayerType.POOLING   (1, 3, 225, 225)   \n",
       "\n",
       "             Outputs                               Type Specific Params  \n",
       "0   (1, 3, 112, 112)  type=PoolingType.MAX wsize=(3, 3) stride=(2, 2...  "
      ]
     },
     "execution_count": 8,
     "metadata": {},
     "output_type": "execute_result"
    }
   ],
   "source": [
    "import pandas as pd\n",
    "\n",
    "pd.DataFrame(net_dict)"
   ]
  },
  {
   "cell_type": "code",
   "execution_count": 9,
   "metadata": {},
   "outputs": [
    {
     "name": "stdout",
     "output_type": "stream",
     "text": [
      "[[[1.5473993  1.4226503  1.4226503  ... 1.2175965  1.1537505  1.6774298 ]\n",
      "  [1.8176032  1.2469562  0.46860367 ... 1.0226729  1.3530318  1.3530318 ]\n",
      "  [1.8176032  1.3608053  1.7681979  ... 1.0226729  1.5229927  1.0145942 ]\n",
      "  ...\n",
      "  [0.91066366 0.9392319  1.2113898  ... 0.8809383  0.6658045  1.5179024 ]\n",
      "  [1.4100938  0.9392319  0.9562539  ... 0.91734457 1.0123339  1.3469784 ]\n",
      "  [1.5830228  1.5830228  0.8718155  ... 2.4697561  1.0123339  1.3469784 ]]\n",
      "\n",
      " [[2.2298632  2.2298632  1.3579075  ... 0.69780236 0.8718312  1.2201344 ]\n",
      "  [1.6716771  1.6716771  1.2598774  ... 1.7448574  1.0671046  1.2201344 ]\n",
      "  [1.6716771  1.6716771  0.86154526 ... 1.7448574  0.93903005 0.84679675]\n",
      "  ...\n",
      "  [1.3825473  1.3825473  1.6213773  ... 1.6845309  1.5847297  1.5847297 ]\n",
      "  [1.8224572  1.1258711  0.42752445 ... 0.8216315  1.4504476  0.8565542 ]\n",
      "  [1.7298367  1.7298367  1.3572205  ... 0.6517587  1.4504476  1.0230354 ]]\n",
      "\n",
      " [[1.9161366  1.9161366  0.56086814 ... 1.7111505  1.7111505  0.9838451 ]\n",
      "  [1.6373359  1.3941488  1.3941488  ... 1.3456429  1.0794978  1.039693  ]\n",
      "  [1.6373359  1.0729575  0.6224591  ... 1.7843286  1.1445056  1.039693  ]\n",
      "  ...\n",
      "  [1.8756591  1.8756591  1.3984362  ... 1.6430002  0.9350918  1.4919325 ]\n",
      "  [1.8756591  1.8756591  1.8003416  ... 1.1996449  1.2134042  1.4919325 ]\n",
      "  [0.70326245 1.1233354  1.8003416  ... 1.0292585  1.8776385  1.1834389 ]]]\n"
     ]
    }
   ],
   "source": [
    "reference = trt_outputs[0].reshape((3, input_size // 2, input_size // 2))\n",
    "print(reference)"
   ]
  },
  {
   "cell_type": "code",
   "execution_count": 10,
   "metadata": {},
   "outputs": [],
   "source": [
    "import sys\n",
    "import os\n",
    "\n",
    "cur_path = %pwd\n",
    "plugin_path = os.path.join(cur_path, 'plugin')\n",
    "sys.path.append(plugin_path)\n",
    "from trt_plugin_pb2 import copy_Message\n",
    "from trt_plugin_pb2 import pooling_Message\n",
    "import trt_plugin_pb2"
   ]
  },
  {
   "cell_type": "code",
   "execution_count": 11,
   "metadata": {},
   "outputs": [],
   "source": [
    "import ctypes\n",
    "\n",
    "lib_file = os.path.join(plugin_path, 'build', 'libPoolingPlugin.so')\n",
    "lib = ctypes.CDLL(lib_file)"
   ]
  },
  {
   "cell_type": "code",
   "execution_count": 12,
   "metadata": {},
   "outputs": [
    {
     "name": "stdout",
     "output_type": "stream",
     "text": [
      "['RnRes2Br2bBr2c_TRT', 'RnRes2Br2bBr2c_TRT', 'RnRes2Br1Br2c_TRT', 'RnRes2Br1Br2c_TRT', 'CustomSkipLayerNormPluginDynamic', 'CustomEmbLayerNormPluginDynamic', 'CustomGeluPluginDynamic', 'CustomQKVToContextPluginDynamic', 'CustomFCPluginDynamic', 'SingleStepLSTMPlugin', 'pooling', 'copy']\n",
      "['', '', '', '', '', '', '', '', '', '', 'macnica_trt_plugins', 'macnica_trt_plugins']\n"
     ]
    }
   ],
   "source": [
    "import tensorrt as trt\n",
    "\n",
    "registry = trt.get_plugin_registry()\n",
    "print([c.name for c in registry.plugin_creator_list])\n",
    "print([c.plugin_namespace for c in registry.plugin_creator_list])"
   ]
  },
  {
   "cell_type": "code",
   "execution_count": 13,
   "metadata": {},
   "outputs": [],
   "source": [
    "namespace = 'macnica_trt_plugins'\n",
    "macnica_creators = [c for c in registry.plugin_creator_list if c.plugin_namespace == namespace]\n",
    "for c in macnica_creators:\n",
    "    registry.register_creator(c, namespace)"
   ]
  },
  {
   "cell_type": "code",
   "execution_count": 14,
   "metadata": {},
   "outputs": [],
   "source": [
    "def define_trt_plugin_network(network):\n",
    "    # Input\n",
    "    input_tensor = network.add_input(name='input', dtype=trt.float32, shape=(1, 3, input_size, input_size))\n",
    "    \n",
    "    ### Custom Pooling Layer with CUDA or cuDNN ###\n",
    "    creator = registry.get_plugin_creator( \\\n",
    "        type='pooling', version='1', plugin_namespace='macnica_trt_plugins')\n",
    "    sz = input_tensor.shape\n",
    "    message = pooling_Message( \\\n",
    "        dims=sz, mode=trt_plugin_pb2.Maximum, window=[win_size, win_size], \\\n",
    "        stride=[stride, stride], impl=trt_plugin_pb2.CUDA)\n",
    "    plg = creator.deserialize_plugin('pooling', message.SerializeToString())\n",
    "    layer = network.add_plugin_v2(inputs=[input_tensor], plugin=plg)\n",
    "\n",
    "    # Output\n",
    "    layer.get_output(0).name = 'output'\n",
    "    network.mark_output(tensor=layer.get_output(0))"
   ]
  },
  {
   "cell_type": "code",
   "execution_count": 15,
   "metadata": {},
   "outputs": [],
   "source": [
    "import trt_analyzer\n",
    "import tensorrt as trt\n",
    "\n",
    "EXPLICIT_BATCH = 1 << (int)(trt.NetworkDefinitionCreationFlag.EXPLICIT_BATCH)\n",
    "\n",
    "def build_engine2(logger):\n",
    "    with trt.Builder(logger) as builder, builder.create_network(EXPLICIT_BATCH) as network:\n",
    "        builder.max_workspace_size = 1 << 30\n",
    "        # Define the TRT network using weights from the PyTorch model.\n",
    "        define_trt_plugin_network(network)\n",
    "        #define_trt_network(network)\n",
    "        # Get network info\n",
    "        global net_dict\n",
    "        net_dict = trt_analyzer.network_dict(network)\n",
    "        # Build and return an engine.\n",
    "        return builder.build_cuda_engine(network)"
   ]
  },
  {
   "cell_type": "code",
   "execution_count": 16,
   "metadata": {},
   "outputs": [],
   "source": [
    "net_dict = None\n",
    "with build_engine2(TRT_LOGGER) as engine:\n",
    "    inputs, outputs, bindings, stream = common.allocate_buffers(engine)\n",
    "    with engine.create_execution_context() as context:\n",
    "        inputs[0].host = input_batch.numpy()\n",
    "        trt_outputs = common.do_inference_v2( \\\n",
    "            context, bindings=bindings, inputs=inputs, outputs=outputs, stream=stream)"
   ]
  },
  {
   "cell_type": "code",
   "execution_count": 17,
   "metadata": {},
   "outputs": [
    {
     "data": {
      "text/html": [
       "<div>\n",
       "<style scoped>\n",
       "    .dataframe tbody tr th:only-of-type {\n",
       "        vertical-align: middle;\n",
       "    }\n",
       "\n",
       "    .dataframe tbody tr th {\n",
       "        vertical-align: top;\n",
       "    }\n",
       "\n",
       "    .dataframe thead th {\n",
       "        text-align: right;\n",
       "    }\n",
       "</style>\n",
       "<table border=\"1\" class=\"dataframe\">\n",
       "  <thead>\n",
       "    <tr style=\"text-align: right;\">\n",
       "      <th></th>\n",
       "      <th>Name</th>\n",
       "      <th>Type</th>\n",
       "      <th>Inputs</th>\n",
       "      <th>Outputs</th>\n",
       "      <th>Type Specific Params</th>\n",
       "    </tr>\n",
       "  </thead>\n",
       "  <tbody>\n",
       "    <tr>\n",
       "      <th>0</th>\n",
       "      <td>(Unnamed Layer* 0) [PluginV2Ext]</td>\n",
       "      <td>LayerType.PLUGIN_V2</td>\n",
       "      <td>(1, 3, 225, 225)</td>\n",
       "      <td>(1, 3, 112, 112)</td>\n",
       "      <td></td>\n",
       "    </tr>\n",
       "  </tbody>\n",
       "</table>\n",
       "</div>"
      ],
      "text/plain": [
       "                               Name                 Type             Inputs  \\\n",
       "0  (Unnamed Layer* 0) [PluginV2Ext]  LayerType.PLUGIN_V2   (1, 3, 225, 225)   \n",
       "\n",
       "             Outputs Type Specific Params  \n",
       "0   (1, 3, 112, 112)                       "
      ]
     },
     "execution_count": 17,
     "metadata": {},
     "output_type": "execute_result"
    }
   ],
   "source": [
    "pd.DataFrame(net_dict)"
   ]
  },
  {
   "cell_type": "code",
   "execution_count": 18,
   "metadata": {},
   "outputs": [
    {
     "name": "stdout",
     "output_type": "stream",
     "text": [
      "[[[1.5473993  1.4226503  1.4226503  ... 1.2175965  1.1537505  1.6774298 ]\n",
      "  [1.8176032  1.2469562  0.46860367 ... 1.0226729  1.3530318  1.3530318 ]\n",
      "  [1.8176032  1.3608053  1.7681979  ... 1.0226729  1.5229927  1.0145942 ]\n",
      "  ...\n",
      "  [0.91066366 0.9392319  1.2113898  ... 0.8809383  0.6658045  1.5179024 ]\n",
      "  [1.4100938  0.9392319  0.9562539  ... 0.91734457 1.0123339  1.3469784 ]\n",
      "  [1.5830228  1.5830228  0.8718155  ... 2.4697561  1.0123339  1.3469784 ]]\n",
      "\n",
      " [[2.2298632  2.2298632  1.3579075  ... 0.69780236 0.8718312  1.2201344 ]\n",
      "  [1.6716771  1.6716771  1.2598774  ... 1.7448574  1.0671046  1.2201344 ]\n",
      "  [1.6716771  1.6716771  0.86154526 ... 1.7448574  0.93903005 0.84679675]\n",
      "  ...\n",
      "  [1.3825473  1.3825473  1.6213773  ... 1.6845309  1.5847297  1.5847297 ]\n",
      "  [1.8224572  1.1258711  0.42752445 ... 0.8216315  1.4504476  0.8565542 ]\n",
      "  [1.7298367  1.7298367  1.3572205  ... 0.6517587  1.4504476  1.0230354 ]]\n",
      "\n",
      " [[1.9161366  1.9161366  0.56086814 ... 1.7111505  1.7111505  0.9838451 ]\n",
      "  [1.6373359  1.3941488  1.3941488  ... 1.3456429  1.0794978  1.039693  ]\n",
      "  [1.6373359  1.0729575  0.6224591  ... 1.7843286  1.1445056  1.039693  ]\n",
      "  ...\n",
      "  [1.8756591  1.8756591  1.3984362  ... 1.6430002  0.9350918  1.4919325 ]\n",
      "  [1.8756591  1.8756591  1.8003416  ... 1.1996449  1.2134042  1.4919325 ]\n",
      "  [0.70326245 1.1233354  1.8003416  ... 1.0292585  1.8776385  1.1834389 ]]]\n"
     ]
    }
   ],
   "source": [
    "result = trt_outputs[0].reshape((3, output_size, output_size))\n",
    "print(result)"
   ]
  },
  {
   "cell_type": "code",
   "execution_count": 19,
   "metadata": {},
   "outputs": [
    {
     "name": "stdout",
     "output_type": "stream",
     "text": [
      "0.0\n"
     ]
    }
   ],
   "source": [
    "print(sum(abs(result.flatten() - reference.flatten())) / len(result.flatten()))"
   ]
  }
 ],
 "metadata": {
  "kernelspec": {
   "display_name": "Python 3",
   "language": "python",
   "name": "python3"
  },
  "language_info": {
   "codemirror_mode": {
    "name": "ipython",
    "version": 3
   },
   "file_extension": ".py",
   "mimetype": "text/x-python",
   "name": "python",
   "nbconvert_exporter": "python",
   "pygments_lexer": "ipython3",
   "version": "3.6.9"
  }
 },
 "nbformat": 4,
 "nbformat_minor": 4
}
