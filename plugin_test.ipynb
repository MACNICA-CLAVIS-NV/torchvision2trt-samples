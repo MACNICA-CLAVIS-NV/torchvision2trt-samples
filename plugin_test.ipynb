{
 "cells": [
  {
   "cell_type": "markdown",
   "metadata": {},
   "source": [
    "# A Programm to Test The Pooling Custom Layer TensorRT Plugin"
   ]
  },
  {
   "cell_type": "code",
   "execution_count": 1,
   "metadata": {},
   "outputs": [],
   "source": [
    "input_size = 225\n",
    "win_size = 3\n",
    "stride = 2\n",
    "output_size = input_size // stride"
   ]
  },
  {
   "cell_type": "code",
   "execution_count": 2,
   "metadata": {},
   "outputs": [],
   "source": [
    "import numpy as np\n",
    "import torch\n",
    "\n",
    "x = np.random.randn(3, input_size, input_size)\n",
    "x = np.float32(x)\n",
    "input_tensor = torch.tensor(x)\n",
    "input_batch = input_tensor.unsqueeze(0)"
   ]
  },
  {
   "cell_type": "code",
   "execution_count": 3,
   "metadata": {},
   "outputs": [
    {
     "data": {
      "text/plain": [
       "torch.Size([1, 3, 225, 225])"
      ]
     },
     "execution_count": 3,
     "metadata": {},
     "output_type": "execute_result"
    }
   ],
   "source": [
    "input_batch.shape"
   ]
  },
  {
   "cell_type": "code",
   "execution_count": 4,
   "metadata": {},
   "outputs": [
    {
     "data": {
      "text/plain": [
       "tensor([[[[ 2.6501, -0.3462, -1.3415,  ..., -0.6482, -0.5050, -2.6726],\n",
       "          [ 0.9051, -1.4667, -1.3951,  ..., -0.1859,  2.0105,  1.2380],\n",
       "          [ 0.0251,  0.8789, -0.5912,  ..., -0.6022, -0.3832, -0.7878],\n",
       "          ...,\n",
       "          [ 0.8270,  0.1583, -0.5770,  ...,  0.1054,  1.2273,  0.0277],\n",
       "          [-0.9453, -0.9123, -0.1213,  ...,  0.3165,  0.6516,  0.6366],\n",
       "          [ 0.1720,  0.1371,  2.1517,  ...,  1.0750, -0.8371, -0.0215]],\n",
       "\n",
       "         [[ 0.1252, -1.1103,  0.7704,  ...,  0.4681,  1.0899,  0.3511],\n",
       "          [-0.0417,  0.4086, -0.4040,  ..., -0.9465, -2.4532,  0.1196],\n",
       "          [ 1.4319, -0.1796, -1.8485,  ..., -0.7844,  1.1484, -0.3196],\n",
       "          ...,\n",
       "          [ 1.2828,  0.1004,  1.1142,  ...,  0.9532,  1.3244, -2.0370],\n",
       "          [-0.8343,  1.0911, -0.8877,  ...,  1.2077,  1.0046,  0.8553],\n",
       "          [ 0.0198, -1.5841, -0.6951,  ...,  0.1021,  1.2555, -2.3765]],\n",
       "\n",
       "         [[-1.4285, -0.9405,  0.7697,  ...,  0.0079, -2.0130,  0.3904],\n",
       "          [ 1.6152, -0.2463,  0.4910,  ..., -1.5069,  0.9178, -0.4214],\n",
       "          [ 0.6680, -0.7641, -0.2256,  ..., -3.0033, -0.5682, -0.5093],\n",
       "          ...,\n",
       "          [-1.6261,  0.3809, -0.1325,  ...,  1.6093, -0.3082, -0.0978],\n",
       "          [ 0.8603, -0.4961,  0.5875,  ..., -1.1888, -0.2829, -0.8616],\n",
       "          [ 0.2976, -0.8211,  1.6029,  ..., -0.1311,  2.0954,  0.7421]]]])"
      ]
     },
     "execution_count": 4,
     "metadata": {},
     "output_type": "execute_result"
    }
   ],
   "source": [
    "input_batch"
   ]
  },
  {
   "cell_type": "code",
   "execution_count": 5,
   "metadata": {},
   "outputs": [],
   "source": [
    "def define_trt_network(network):\n",
    "    # Input\n",
    "    input_tensor = network.add_input(name='input', dtype=trt.float32, shape=(1, 3, input_size, input_size))\n",
    "\n",
    "    # MaxPool2d\n",
    "    layer = network.add_pooling_nd( \\\n",
    "        input=input_tensor, type=trt.PoolingType.MAX, window_size=(win_size, win_size))\n",
    "    layer.stride_nd = (stride, stride)\n",
    "\n",
    "    # Output\n",
    "    layer.get_output(0).name = 'output'\n",
    "    network.mark_output(tensor=layer.get_output(0))"
   ]
  },
  {
   "cell_type": "code",
   "execution_count": 6,
   "metadata": {},
   "outputs": [],
   "source": [
    "import trt_analyzer\n",
    "import tensorrt as trt\n",
    "\n",
    "EXPLICIT_BATCH = 1 << (int)(trt.NetworkDefinitionCreationFlag.EXPLICIT_BATCH)\n",
    "\n",
    "def build_engine(logger):\n",
    "    with trt.Builder(logger) as builder, builder.create_network(EXPLICIT_BATCH) as network, builder.create_builder_config() as config, trt.Runtime(TRT_LOGGER) as runtime:\n",
    "        if hasattr(config, 'set_memory_pool_limit'):\n",
    "            config.set_memory_pool_limit(trt.MemoryPoolType.WORKSPACE, 1 << 30)\n",
    "        else:\n",
    "            config.max_workspace_size = 1 << 30\n",
    "        # Define the TRT network using weights from the PyTorch model.\n",
    "        #define_trt_plugin_network(network)\n",
    "        define_trt_network(network)\n",
    "        # Get network info\n",
    "        global net_dict\n",
    "        net_dict = trt_analyzer.network_dict(network)\n",
    "        # Build and return an engine.\n",
    "        plan = builder.build_serialized_network(network, config)\n",
    "        engine = runtime.deserialize_cuda_engine(plan)\n",
    "        return engine"
   ]
  },
  {
   "cell_type": "code",
   "execution_count": 7,
   "metadata": {},
   "outputs": [],
   "source": [
    "import tensorrt as trt\n",
    "import common\n",
    "\n",
    "TRT_LOGGER = trt.Logger(trt.Logger.WARNING)\n",
    "net_dict = None\n",
    "with build_engine(TRT_LOGGER) as engine:\n",
    "    inputs, outputs, bindings, stream = common.allocate_buffers(engine)\n",
    "    with engine.create_execution_context() as context:\n",
    "        inputs[0].host = input_batch.numpy()\n",
    "        trt_outputs = common.do_inference_v2( \\\n",
    "            context, bindings=bindings, inputs=inputs, outputs=outputs, stream=stream)"
   ]
  },
  {
   "cell_type": "code",
   "execution_count": 8,
   "metadata": {},
   "outputs": [
    {
     "data": {
      "text/html": [
       "<div>\n",
       "<style scoped>\n",
       "    .dataframe tbody tr th:only-of-type {\n",
       "        vertical-align: middle;\n",
       "    }\n",
       "\n",
       "    .dataframe tbody tr th {\n",
       "        vertical-align: top;\n",
       "    }\n",
       "\n",
       "    .dataframe thead th {\n",
       "        text-align: right;\n",
       "    }\n",
       "</style>\n",
       "<table border=\"1\" class=\"dataframe\">\n",
       "  <thead>\n",
       "    <tr style=\"text-align: right;\">\n",
       "      <th></th>\n",
       "      <th>Name</th>\n",
       "      <th>Type</th>\n",
       "      <th>Inputs</th>\n",
       "      <th>Outputs</th>\n",
       "      <th>Type Specific Params</th>\n",
       "    </tr>\n",
       "  </thead>\n",
       "  <tbody>\n",
       "    <tr>\n",
       "      <th>0</th>\n",
       "      <td>(Unnamed Layer* 0) [Pooling]</td>\n",
       "      <td>LayerType.POOLING</td>\n",
       "      <td>(1, 3, 225, 225)</td>\n",
       "      <td>(1, 3, 112, 112)</td>\n",
       "      <td>type=PoolingType.MAX wsize=(3, 3) stride=(2, 2...</td>\n",
       "    </tr>\n",
       "  </tbody>\n",
       "</table>\n",
       "</div>"
      ],
      "text/plain": [
       "                           Name               Type             Inputs  \\\n",
       "0  (Unnamed Layer* 0) [Pooling]  LayerType.POOLING   (1, 3, 225, 225)   \n",
       "\n",
       "             Outputs                               Type Specific Params  \n",
       "0   (1, 3, 112, 112)  type=PoolingType.MAX wsize=(3, 3) stride=(2, 2...  "
      ]
     },
     "execution_count": 8,
     "metadata": {},
     "output_type": "execute_result"
    }
   ],
   "source": [
    "import pandas as pd\n",
    "\n",
    "pd.DataFrame(net_dict)"
   ]
  },
  {
   "cell_type": "code",
   "execution_count": 9,
   "metadata": {},
   "outputs": [
    {
     "name": "stdout",
     "output_type": "stream",
     "text": [
      "[[[2.6500769  3.2290633  1.2284403  ... 0.00681744 0.3772723  2.0105433 ]\n",
      "  [1.007256   0.9180095  0.9180095  ... 1.4345497  1.4345497  0.37398094]\n",
      "  [1.99439    0.73119545 0.73119545 ... 1.0924299  1.2929664  0.79655266]\n",
      "  ...\n",
      "  [1.448458   1.448458   2.810543   ... 1.625236   1.3118337  1.3118337 ]\n",
      "  [1.9775156  1.448458   1.5463194  ... 0.44959897 1.2018094  1.8659633 ]\n",
      "  [2.1517208  2.1517208  2.2942665  ... 1.4624052  1.2018094  1.227329  ]]\n",
      "\n",
      " [[1.4319263  0.77039176 2.1400537  ... 0.5548143  0.8839576  1.1483607 ]\n",
      "  [2.3155487  1.7184061  1.7184061  ... 1.2364593  1.565932   1.1483607 ]\n",
      "  [2.3155487  2.2861629  1.505162   ... 1.2364593  1.5126514  1.7555597 ]\n",
      "  ...\n",
      "  [1.7056639  0.43093443 1.6173016  ... 0.73323804 1.6115369  1.6105862 ]\n",
      "  [1.7056639  1.1142296  1.0374436  ... 2.5228689  0.9532252  1.3243661 ]\n",
      "  [1.2828177  1.1142296  0.60522914 ... 1.1300025  1.2077414  1.3243661 ]]\n",
      "\n",
      " [[1.6152198  2.0561554  2.0561554  ... 2.500008   0.20238331 0.9177837 ]\n",
      "  [0.70294493 2.0561554  2.0561554  ... 1.621303   1.621303   2.313456  ]\n",
      "  [1.8013054  1.8013054  0.79464066 ... 1.0130832  0.80383503 2.313456  ]\n",
      "  ...\n",
      "  [1.182473   1.6572033  1.6572033  ... 1.5633014  1.9917465  1.405829  ]\n",
      "  [0.93482834 1.2557317  0.3500307  ... 1.5633014  1.6092975  1.6092975 ]\n",
      "  [1.6028861  1.6028861  0.8380887  ... 0.79362833 1.6092975  2.0954032 ]]]\n"
     ]
    }
   ],
   "source": [
    "reference = trt_outputs[0].reshape((3, input_size // 2, input_size // 2))\n",
    "print(reference)"
   ]
  },
  {
   "cell_type": "code",
   "execution_count": 10,
   "metadata": {},
   "outputs": [],
   "source": [
    "import sys\n",
    "import os\n",
    "\n",
    "cur_path = %pwd\n",
    "plugin_path = os.path.join(cur_path, 'plugin')\n",
    "sys.path.append(plugin_path)\n",
    "from trt_plugin_pb2 import copy_Message\n",
    "from trt_plugin_pb2 import pooling_Message\n",
    "import trt_plugin_pb2"
   ]
  },
  {
   "cell_type": "code",
   "execution_count": 11,
   "metadata": {},
   "outputs": [],
   "source": [
    "import ctypes\n",
    "\n",
    "lib_file = os.path.join(plugin_path, 'build', 'libPoolingPlugin.so')\n",
    "lib = ctypes.CDLL(lib_file)"
   ]
  },
  {
   "cell_type": "code",
   "execution_count": 12,
   "metadata": {},
   "outputs": [
    {
     "name": "stdout",
     "output_type": "stream",
     "text": [
      "['CustomQKVToContextPluginDynamic', 'CustomQKVToContextPluginDynamic', 'CustomQKVToContextPluginDynamic', 'RnRes2Br1Br2c_TRT', 'RnRes2Br1Br2c_TRT', 'RnRes2FullFusion_TRT', 'SmallTileGEMM_TRT', 'RNNTEncoderPlugin', 'DLRM_BOTTOM_MLP_TRT', 'CustomSkipLayerNormPluginDynamic', 'CustomSkipLayerNormPluginDynamic', 'CustomSkipLayerNormPluginDynamic', 'CustomSkipLayerNormPluginDynamic', 'SingleStepLSTMPlugin', 'RnRes2Br2bBr2c_TRT', 'RnRes2Br2bBr2c_TRT', 'CustomGeluPluginDynamic', 'CustomFCPluginDynamic', 'CustomEmbLayerNormPluginDynamic', 'CustomEmbLayerNormPluginDynamic', 'CustomEmbLayerNormPluginDynamic', 'pooling', 'copy']\n",
      "['', '', '', '', '', '', '', '', '', '', '', '', '', '', '', '', '', '', '', '', '', 'macnica_trt_plugins', 'macnica_trt_plugins']\n"
     ]
    }
   ],
   "source": [
    "import tensorrt as trt\n",
    "\n",
    "registry = trt.get_plugin_registry()\n",
    "print([c.name for c in registry.plugin_creator_list])\n",
    "print([c.plugin_namespace for c in registry.plugin_creator_list])"
   ]
  },
  {
   "cell_type": "code",
   "execution_count": 13,
   "metadata": {},
   "outputs": [],
   "source": [
    "namespace = 'macnica_trt_plugins'\n",
    "macnica_creators = [c for c in registry.plugin_creator_list if c.plugin_namespace == namespace]\n",
    "for c in macnica_creators:\n",
    "    registry.register_creator(c, namespace)"
   ]
  },
  {
   "cell_type": "code",
   "execution_count": 14,
   "metadata": {},
   "outputs": [],
   "source": [
    "def define_trt_plugin_network(network):\n",
    "    # Input\n",
    "    input_tensor = network.add_input(name='input', dtype=trt.float32, shape=(1, 3, input_size, input_size))\n",
    "    \n",
    "    ### Custom Pooling Layer with CUDA or cuDNN ###\n",
    "    creator = registry.get_plugin_creator( \\\n",
    "        type='pooling', version='1', plugin_namespace='macnica_trt_plugins')\n",
    "    sz = input_tensor.shape\n",
    "    message = pooling_Message( \\\n",
    "        dims=sz, mode=trt_plugin_pb2.Maximum, window=[win_size, win_size], \\\n",
    "        stride=[stride, stride], impl=trt_plugin_pb2.CUDA)\n",
    "    plg = creator.deserialize_plugin('pooling', message.SerializeToString())\n",
    "    layer = network.add_plugin_v2(inputs=[input_tensor], plugin=plg)\n",
    "\n",
    "    # Output\n",
    "    layer.get_output(0).name = 'output'\n",
    "    network.mark_output(tensor=layer.get_output(0))"
   ]
  },
  {
   "cell_type": "code",
   "execution_count": 15,
   "metadata": {},
   "outputs": [],
   "source": [
    "import trt_analyzer\n",
    "import tensorrt as trt\n",
    "\n",
    "EXPLICIT_BATCH = 1 << (int)(trt.NetworkDefinitionCreationFlag.EXPLICIT_BATCH)\n",
    "\n",
    "def build_engine2(logger):\n",
    "    with trt.Builder(logger) as builder, builder.create_network(EXPLICIT_BATCH) as network, builder.create_builder_config() as config, trt.Runtime(TRT_LOGGER) as runtime:\n",
    "        if hasattr(config, 'set_memory_pool_limit'):\n",
    "            config.set_memory_pool_limit(trt.MemoryPoolType.WORKSPACE, 1 << 30)\n",
    "        else:\n",
    "            config.max_workspace_size = 1 << 30\n",
    "        # Define the TRT network using weights from the PyTorch model.\n",
    "        define_trt_plugin_network(network)\n",
    "        #define_trt_network(network)\n",
    "        # Get network info\n",
    "        global net_dict\n",
    "        net_dict = trt_analyzer.network_dict(network)\n",
    "        # Build and return an engine.\n",
    "        plan = builder.build_serialized_network(network, config)\n",
    "        engine = runtime.deserialize_cuda_engine(plan)\n",
    "        return engine"
   ]
  },
  {
   "cell_type": "code",
   "execution_count": 16,
   "metadata": {},
   "outputs": [
    {
     "name": "stdout",
     "output_type": "stream",
     "text": [
      "Process started.\n",
      "Process finished.\n",
      "Process started.\n",
      "Process finished.\n",
      "Process started.\n",
      "Process finished.\n",
      "Process started.\n",
      "Process finished.\n",
      "Process started.\n",
      "Process finished.\n",
      "Process started.\n",
      "Process finished.\n",
      "Process started.\n",
      "Process finished.\n",
      "Process started.\n",
      "Process finished.\n",
      "Process started.\n",
      "Process finished.\n",
      "Process started.\n",
      "Process finished.\n",
      "Process started.\n",
      "Process finished.\n",
      "Process started.\n",
      "Process finished.\n",
      "Process started.\n",
      "Process finished.\n"
     ]
    }
   ],
   "source": [
    "net_dict = None\n",
    "with build_engine2(TRT_LOGGER) as engine:\n",
    "    inputs, outputs, bindings, stream = common.allocate_buffers(engine)\n",
    "    with engine.create_execution_context() as context:\n",
    "        inputs[0].host = input_batch.numpy()\n",
    "        trt_outputs = common.do_inference_v2( \\\n",
    "            context, bindings=bindings, inputs=inputs, outputs=outputs, stream=stream)"
   ]
  },
  {
   "cell_type": "code",
   "execution_count": 17,
   "metadata": {},
   "outputs": [
    {
     "data": {
      "text/html": [
       "<div>\n",
       "<style scoped>\n",
       "    .dataframe tbody tr th:only-of-type {\n",
       "        vertical-align: middle;\n",
       "    }\n",
       "\n",
       "    .dataframe tbody tr th {\n",
       "        vertical-align: top;\n",
       "    }\n",
       "\n",
       "    .dataframe thead th {\n",
       "        text-align: right;\n",
       "    }\n",
       "</style>\n",
       "<table border=\"1\" class=\"dataframe\">\n",
       "  <thead>\n",
       "    <tr style=\"text-align: right;\">\n",
       "      <th></th>\n",
       "      <th>Name</th>\n",
       "      <th>Type</th>\n",
       "      <th>Inputs</th>\n",
       "      <th>Outputs</th>\n",
       "      <th>Type Specific Params</th>\n",
       "    </tr>\n",
       "  </thead>\n",
       "  <tbody>\n",
       "    <tr>\n",
       "      <th>0</th>\n",
       "      <td>(Unnamed Layer* 0) [PluginV2Ext]</td>\n",
       "      <td>LayerType.PLUGIN_V2</td>\n",
       "      <td>(1, 3, 225, 225)</td>\n",
       "      <td>(1, 3, 112, 112)</td>\n",
       "      <td></td>\n",
       "    </tr>\n",
       "  </tbody>\n",
       "</table>\n",
       "</div>"
      ],
      "text/plain": [
       "                               Name                 Type             Inputs  \\\n",
       "0  (Unnamed Layer* 0) [PluginV2Ext]  LayerType.PLUGIN_V2   (1, 3, 225, 225)   \n",
       "\n",
       "             Outputs Type Specific Params  \n",
       "0   (1, 3, 112, 112)                       "
      ]
     },
     "execution_count": 17,
     "metadata": {},
     "output_type": "execute_result"
    }
   ],
   "source": [
    "pd.DataFrame(net_dict)"
   ]
  },
  {
   "cell_type": "code",
   "execution_count": 18,
   "metadata": {},
   "outputs": [
    {
     "name": "stdout",
     "output_type": "stream",
     "text": [
      "[[[2.6500769  3.2290633  1.2284403  ... 0.00681744 0.3772723  2.0105433 ]\n",
      "  [1.007256   0.9180095  0.9180095  ... 1.4345497  1.4345497  0.37398094]\n",
      "  [1.99439    0.73119545 0.73119545 ... 1.0924299  1.2929664  0.79655266]\n",
      "  ...\n",
      "  [1.448458   1.448458   2.810543   ... 1.625236   1.3118337  1.3118337 ]\n",
      "  [1.9775156  1.448458   1.5463194  ... 0.44959897 1.2018094  1.8659633 ]\n",
      "  [2.1517208  2.1517208  2.2942665  ... 1.4624052  1.2018094  1.227329  ]]\n",
      "\n",
      " [[1.4319263  0.77039176 2.1400537  ... 0.5548143  0.8839576  1.1483607 ]\n",
      "  [2.3155487  1.7184061  1.7184061  ... 1.2364593  1.565932   1.1483607 ]\n",
      "  [2.3155487  2.2861629  1.505162   ... 1.2364593  1.5126514  1.7555597 ]\n",
      "  ...\n",
      "  [1.7056639  0.43093443 1.6173016  ... 0.73323804 1.6115369  1.6105862 ]\n",
      "  [1.7056639  1.1142296  1.0374436  ... 2.5228689  0.9532252  1.3243661 ]\n",
      "  [1.2828177  1.1142296  0.60522914 ... 1.1300025  1.2077414  1.3243661 ]]\n",
      "\n",
      " [[1.6152198  2.0561554  2.0561554  ... 2.500008   0.20238331 0.9177837 ]\n",
      "  [0.70294493 2.0561554  2.0561554  ... 1.621303   1.621303   2.313456  ]\n",
      "  [1.8013054  1.8013054  0.79464066 ... 1.0130832  0.80383503 2.313456  ]\n",
      "  ...\n",
      "  [1.182473   1.6572033  1.6572033  ... 1.5633014  1.9917465  1.405829  ]\n",
      "  [0.93482834 1.2557317  0.3500307  ... 1.5633014  1.6092975  1.6092975 ]\n",
      "  [1.6028861  1.6028861  0.8380887  ... 0.79362833 1.6092975  2.0954032 ]]]\n"
     ]
    }
   ],
   "source": [
    "result = trt_outputs[0].reshape((3, output_size, output_size))\n",
    "print(result)"
   ]
  },
  {
   "cell_type": "code",
   "execution_count": 19,
   "metadata": {},
   "outputs": [
    {
     "name": "stdout",
     "output_type": "stream",
     "text": [
      "0.0\n"
     ]
    }
   ],
   "source": [
    "print(sum(abs(result.flatten() - reference.flatten())) / len(result.flatten()))"
   ]
  }
 ],
 "metadata": {
  "kernelspec": {
   "display_name": "Python 3 (ipykernel)",
   "language": "python",
   "name": "python3"
  },
  "language_info": {
   "codemirror_mode": {
    "name": "ipython",
    "version": 3
   },
   "file_extension": ".py",
   "mimetype": "text/x-python",
   "name": "python",
   "nbconvert_exporter": "python",
   "pygments_lexer": "ipython3",
   "version": "3.8.10"
  }
 },
 "nbformat": 4,
 "nbformat_minor": 4
}
