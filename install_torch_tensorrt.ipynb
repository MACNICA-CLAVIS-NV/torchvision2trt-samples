{
 "cells": [
  {
   "cell_type": "code",
   "execution_count": 2,
   "id": "bdb77778-66c3-4e13-83f6-f96060afae3c",
   "metadata": {},
   "outputs": [],
   "source": [
    "!apt-get update >log.txt 2>&1\n",
    "\n",
    "!apt-get install -y npm >>log.txt 2>&1\n",
    "\n",
    "!npm install -g @bazel/bazelisk >>log.txt 2>&1\n",
    "\n",
    "!git clone https://github.com/NVIDIA/Torch-TensorRT >>log.txt 2>&1"
   ]
  },
  {
   "cell_type": "markdown",
   "id": "23d38c71-065e-4901-ad63-502a783d1dec",
   "metadata": {},
   "source": [
    "**Edit Torch-TensorRT/Workspace**"
   ]
  },
  {
   "cell_type": "code",
   "execution_count": 3,
   "id": "8b7e7552-f7e4-49eb-9e8b-043ef5303d43",
   "metadata": {},
   "outputs": [
    {
     "name": "stdout",
     "output_type": "stream",
     "text": [
      "/torchvision2trt-samples/Torch-TensorRT\n",
      "/torchvision2trt-samples/Torch-TensorRT/py\n",
      "/torchvision2trt-samples\n"
     ]
    }
   ],
   "source": [
    "%cd ./Torch-TensorRT\n",
    "\n",
    "!bazel build //:libtorchtrt -c opt >>../log.txt 2>&1\n",
    "\n",
    "%cd py\n",
    "\n",
    "!python3 setup.py install --jetpack-version 4.6 --use-cxx11-abi >>../log.txt 2>&1\n",
    "\n",
    "%cd ../.."
   ]
  },
  {
   "cell_type": "code",
   "execution_count": 4,
   "id": "260d0680-a0e9-4854-a396-c4d1b0108379",
   "metadata": {},
   "outputs": [
    {
     "name": "stdout",
     "output_type": "stream",
     "text": [
      "Hit:1 https://repo.download.nvidia.com/jetson/common r34.1 InRelease\n",
      "Hit:2 http://ports.ubuntu.com/ubuntu-ports focal InRelease\n",
      "Hit:3 http://ports.ubuntu.com/ubuntu-ports focal-updates InRelease\n",
      "Hit:4 http://ports.ubuntu.com/ubuntu-ports focal-backports InRelease\n",
      "Hit:5 http://ports.ubuntu.com/ubuntu-ports focal-security InRelease\n",
      "Reading package lists...\n",
      "Reading package lists...\n",
      "Building dependency tree...\n",
      "Reading state information...\n",
      "npm is already the newest version (6.14.4+ds-1ubuntu2).\n",
      "0 upgraded, 0 newly installed, 0 to remove and 26 not upgraded.\n",
      "/usr/local/bin/bazel -> /usr/local/lib/node_modules/@bazel/bazelisk/bazelisk.js\n",
      "/usr/local/bin/bazelisk -> /usr/local/lib/node_modules/@bazel/bazelisk/bazelisk.js\n",
      "+ @bazel/bazelisk@1.12.0\n",
      "updated 1 package in 2.949s\n",
      "fatal: destination path 'Torch-TensorRT' already exists and is not an empty directory.\n"
     ]
    }
   ],
   "source": [
    "!cat log.txt"
   ]
  },
  {
   "cell_type": "code",
   "execution_count": null,
   "id": "a64d9dd7-ef48-4aeb-a2c8-f4c7be97b7d7",
   "metadata": {},
   "outputs": [],
   "source": []
  }
 ],
 "metadata": {
  "kernelspec": {
   "display_name": "Python 3 (ipykernel)",
   "language": "python",
   "name": "python3"
  },
  "language_info": {
   "codemirror_mode": {
    "name": "ipython",
    "version": 3
   },
   "file_extension": ".py",
   "mimetype": "text/x-python",
   "name": "python",
   "nbconvert_exporter": "python",
   "pygments_lexer": "ipython3",
   "version": "3.8.10"
  }
 },
 "nbformat": 4,
 "nbformat_minor": 5
}
