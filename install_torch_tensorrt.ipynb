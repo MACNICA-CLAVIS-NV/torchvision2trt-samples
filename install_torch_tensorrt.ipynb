{
 "cells": [
  {
   "cell_type": "markdown",
   "id": "4c42c835",
   "metadata": {},
   "source": [
    "# ONLY FOR JETSON! - [Torch-TensorRT](https://github.com/pytorch/TensorRT) Installation Procedure"
   ]
  },
  {
   "cell_type": "markdown",
   "id": "f23f7871",
   "metadata": {},
   "source": [
    "This notebook provides the commands to install Torch-TensorRT to **Jetson** for your convenience. Please refer to [the official instruction](https://github.com/pytorch/TensorRT#compiling-torch-tensorrt) for the details."
   ]
  },
  {
   "cell_type": "markdown",
   "id": "aea11d74",
   "metadata": {},
   "source": [
    "## Install Bazel & clone the repository"
   ]
  },
  {
   "cell_type": "code",
   "execution_count": null,
   "id": "bdb77778-66c3-4e13-83f6-f96060afae3c",
   "metadata": {},
   "outputs": [],
   "source": [
    "!apt-get update >log.txt 2>&1\n",
    "\n",
    "!apt-get install -y npm >>log.txt 2>&1\n",
    "\n",
    "!npm install -g @bazel/bazelisk >>log.txt 2>&1\n",
    "\n",
    "!git clone https://github.com/NVIDIA/Torch-TensorRT /Torch-TensorRT >>log.txt 2>&1"
   ]
  },
  {
   "cell_type": "markdown",
   "id": "db7f3d85",
   "metadata": {},
   "source": [
    "### Check the log file if you want"
   ]
  },
  {
   "cell_type": "code",
   "execution_count": null,
   "id": "35e8f4e9",
   "metadata": {},
   "outputs": [],
   "source": [
    "# !cat log.txt"
   ]
  },
  {
   "cell_type": "markdown",
   "id": "23d38c71-065e-4901-ad63-502a783d1dec",
   "metadata": {
    "tags": []
   },
   "source": [
    "## STOP HERE! Edit /Torch-TensorRT/Workspace"
   ]
  },
  {
   "cell_type": "markdown",
   "id": "c896f7f4",
   "metadata": {},
   "source": [
    "You need to modify the Workspace file for your Jetson system. Please refer to [Building using locally installed cuDNN & TensorRT](https://github.com/pytorch/TensorRT#2-building-using-locally-installed-cudnn--tensorrt) for the details.\n",
    "\n",
    "You also need to change **the Python version** and **the CUDA version** for your system."
   ]
  },
  {
   "cell_type": "markdown",
   "id": "8d1510e7-987f-42de-84ac-2645a5e48c1e",
   "metadata": {},
   "source": [
    "## Build"
   ]
  },
  {
   "cell_type": "code",
   "execution_count": null,
   "id": "8b7e7552-f7e4-49eb-9e8b-043ef5303d43",
   "metadata": {},
   "outputs": [],
   "source": [
    "%cd /Torch-TensorRT\n",
    "\n",
    "!bazel build //:libtorchtrt -c opt >log.txt 2>&1\n",
    "\n",
    "%cd py\n",
    "\n",
    "!python3 setup.py install --jetpack-version 4.6 --use-cxx11-abi >>log.txt 2>&1"
   ]
  },
  {
   "cell_type": "markdown",
   "id": "dfda25ca-a711-4a6e-9109-ba224fc8da56",
   "metadata": {},
   "source": [
    "### Check the log file if you want"
   ]
  },
  {
   "cell_type": "code",
   "execution_count": null,
   "id": "260d0680-a0e9-4854-a396-c4d1b0108379",
   "metadata": {},
   "outputs": [],
   "source": [
    "!cat log.txt"
   ]
  }
 ],
 "metadata": {
  "kernelspec": {
   "display_name": "Python 3 (ipykernel)",
   "language": "python",
   "name": "python3"
  },
  "language_info": {
   "codemirror_mode": {
    "name": "ipython",
    "version": 3
   },
   "file_extension": ".py",
   "mimetype": "text/x-python",
   "name": "python",
   "nbconvert_exporter": "python",
   "pygments_lexer": "ipython3",
   "version": "3.8.10"
  }
 },
 "nbformat": 4,
 "nbformat_minor": 5
}
