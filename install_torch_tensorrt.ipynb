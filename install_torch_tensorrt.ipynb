{
 "cells": [
  {
   "cell_type": "markdown",
   "id": "effe931a",
   "metadata": {},
   "source": [
    "# ONLY FOR JETSON! - [Torch-TensorRT](https://github.com/pytorch/TensorRT) Installation Procedure for L4T (Jetson Linux) 34.1 or later"
   ]
  },
  {
   "cell_type": "markdown",
   "id": "f859d14b",
   "metadata": {},
   "source": [
    "This notebook provides the commands to install Torch-TensorRT to **Jetson** for your convenience. Please refer to [the official instruction](https://github.com/pytorch/TensorRT#compiling-torch-tensorrt) for the details."
   ]
  },
  {
   "cell_type": "markdown",
   "id": "e156074b",
   "metadata": {},
   "source": [
    "## Install NPM"
   ]
  },
  {
   "cell_type": "code",
   "execution_count": null,
   "id": "fe92a2bb",
   "metadata": {},
   "outputs": [],
   "source": [
    "!apt-get update >log.txt 2>&1\n",
    "\n",
    "!apt-get install -y npm >>log.txt 2>&1"
   ]
  },
  {
   "cell_type": "markdown",
   "id": "aa942d8e",
   "metadata": {},
   "source": [
    "## Install Bazel"
   ]
  },
  {
   "cell_type": "code",
   "execution_count": null,
   "id": "72981e2a",
   "metadata": {},
   "outputs": [],
   "source": [
    "!npm install -g @bazel/bazelisk >>log.txt 2>&1"
   ]
  },
  {
   "cell_type": "markdown",
   "id": "fa11439c",
   "metadata": {},
   "source": [
    "## Clone Torch-TensorRT repository and checkout the desired version"
   ]
  },
  {
   "cell_type": "code",
   "execution_count": null,
   "id": "0160207d",
   "metadata": {},
   "outputs": [],
   "source": [
    "%cd /\n",
    "\n",
    "!git clone https://github.com/NVIDIA/Torch-TensorRT\n",
    "\n",
    "%cd Torch-TensorRT\n",
    "\n",
    "!git checkout v1.1.1"
   ]
  },
  {
   "cell_type": "markdown",
   "id": "d951401d",
   "metadata": {
    "tags": []
   },
   "source": [
    "## STOP HERE! Edit /Torch-TensorRT/WORKSPACE"
   ]
  },
  {
   "cell_type": "markdown",
   "id": "29a392d0",
   "metadata": {},
   "source": [
    "You need to modify the Workspace file for your Jetson system. Please refer to [Building using locally installed cuDNN & TensorRT](https://github.com/pytorch/TensorRT#2-building-using-locally-installed-cudnn--tensorrt) for the details.\n",
    "\n",
    "You also need to change **the Python version** and **the CUDA version** for your system.\n",
    "\n",
    "Please find [WORKSPACE.torch_tensorrt_l4t_34_1_1](./WORKSPACE.torch_tensorrt_l4t_34_1_1) which is a sample configuration to install Torch-TensorRT in L4T(Jetson Linux) 34.1.1 for your reference."
   ]
  },
  {
   "cell_type": "markdown",
   "id": "1aeceb78",
   "metadata": {},
   "source": [
    "## Build"
   ]
  },
  {
   "cell_type": "code",
   "execution_count": null,
   "id": "4f6fc8a0",
   "metadata": {},
   "outputs": [],
   "source": [
    "!bazel build //:libtorchtrt -c opt >log.txt 2>&1\n",
    "\n",
    "%cd py\n",
    "\n",
    "!python3 setup.py install --jetpack-version 4.6 --use-cxx11-abi >log.txt 2>&1"
   ]
  },
  {
   "cell_type": "code",
   "execution_count": null,
   "id": "d052232e-23f0-4fe8-b214-a55e36b15919",
   "metadata": {},
   "outputs": [],
   "source": []
  }
 ],
 "metadata": {
  "kernelspec": {
   "display_name": "Python 3 (ipykernel)",
   "language": "python",
   "name": "python3"
  },
  "language_info": {
   "codemirror_mode": {
    "name": "ipython",
    "version": 3
   },
   "file_extension": ".py",
   "mimetype": "text/x-python",
   "name": "python",
   "nbconvert_exporter": "python",
   "pygments_lexer": "ipython3",
   "version": "3.8.10"
  }
 },
 "nbformat": 4,
 "nbformat_minor": 5
}
