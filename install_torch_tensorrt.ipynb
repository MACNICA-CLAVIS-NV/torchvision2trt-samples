{
 "cells": [
  {
   "cell_type": "code",
   "execution_count": null,
   "id": "bdb77778-66c3-4e13-83f6-f96060afae3c",
   "metadata": {},
   "outputs": [],
   "source": [
    "!apt-get update >log.txt 2>&1\n",
    "\n",
    "!apt-get install -y npm >>log.txt 2>&1\n",
    "\n",
    "!npm install -g @bazel/bazelisk >>log.txt 2>&1\n",
    "\n",
    "!git clone https://github.com/NVIDIA/Torch-TensorRT /Torch-TensorRT >>log.txt 2>&1"
   ]
  },
  {
   "cell_type": "markdown",
   "id": "23d38c71-065e-4901-ad63-502a783d1dec",
   "metadata": {},
   "source": [
    "**Edit Torch-TensorRT/Workspace**"
   ]
  },
  {
   "cell_type": "code",
   "execution_count": null,
   "id": "8b7e7552-f7e4-49eb-9e8b-043ef5303d43",
   "metadata": {},
   "outputs": [],
   "source": [
    "%cd /Torch-TensorRT\n",
    "\n",
    "!bazel build //:libtorchtrt -c opt >log.txt 2>&1\n",
    "\n",
    "%cd py\n",
    "\n",
    "!python3 setup.py install --jetpack-version 4.6 --use-cxx11-abi >>log.txt 2>&1\n",
    "\n",
    "%cd ../.."
   ]
  },
  {
   "cell_type": "code",
   "execution_count": null,
   "id": "260d0680-a0e9-4854-a396-c4d1b0108379",
   "metadata": {},
   "outputs": [],
   "source": [
    "!cat log.txt"
   ]
  },
  {
   "cell_type": "code",
   "execution_count": null,
   "id": "a64d9dd7-ef48-4aeb-a2c8-f4c7be97b7d7",
   "metadata": {},
   "outputs": [],
   "source": []
  }
 ],
 "metadata": {
  "kernelspec": {
   "display_name": "Python 3 (ipykernel)",
   "language": "python",
   "name": "python3"
  },
  "language_info": {
   "codemirror_mode": {
    "name": "ipython",
    "version": 3
   },
   "file_extension": ".py",
   "mimetype": "text/x-python",
   "name": "python",
   "nbconvert_exporter": "python",
   "pygments_lexer": "ipython3",
   "version": "3.8.10"
  }
 },
 "nbformat": 4,
 "nbformat_minor": 5
}
